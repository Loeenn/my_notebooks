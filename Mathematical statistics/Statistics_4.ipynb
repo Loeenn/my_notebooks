{
 "cells": [
  {
   "cell_type": "code",
   "execution_count": 1,
   "id": "983213cc",
   "metadata": {},
   "outputs": [],
   "source": [
    "# Работа с данными \n",
    "import pandas as pd\n",
    "import numpy as np\n",
    "\n",
    "# Визуалцияция результатов обучения\n",
    "import matplotlib.pyplot as plt\n",
    "\n",
    "import sklearn\n",
    "from sklearn.feature_selection import SelectKBest, chi2\n",
    "from sklearn.decomposition import PCA\n",
    "from sklearn.preprocessing import StandardScaler,MinMaxScaler, OneHotEncoder,LabelEncoder,PolynomialFeatures\n",
    "from sklearn.compose import make_column_transformer\n",
    "\n",
    "from sklearn.model_selection import train_test_split\n",
    "from sklearn import tree\n",
    "from sklearn.linear_model import LogisticRegression,LinearRegression\n",
    "from sklearn.metrics import confusion_matrix, roc_curve, plot_roc_curve, auc, ConfusionMatrixDisplay,roc_auc_score,r2_score,mean_squared_error,mean_absolute_error\n",
    "import sklearn.datasets\n",
    "import sklearn.metrics as metrics\n",
    "from sklearn import preprocessing\n",
    "import pingouin as pg"
   ]
  },
  {
   "cell_type": "code",
   "execution_count": 2,
   "id": "fe109ec0",
   "metadata": {},
   "outputs": [],
   "source": [
    "df = pd.read_csv(r'../data/06.csv')"
   ]
  },
  {
   "cell_type": "code",
   "execution_count": 3,
   "id": "9680a0a8",
   "metadata": {},
   "outputs": [],
   "source": [
    "df = df.drop(columns = 'Unnamed: 0')"
   ]
  },
  {
   "cell_type": "code",
   "execution_count": 4,
   "id": "952195cd",
   "metadata": {},
   "outputs": [
    {
     "data": {
      "text/html": [
       "<div>\n",
       "<style scoped>\n",
       "    .dataframe tbody tr th:only-of-type {\n",
       "        vertical-align: middle;\n",
       "    }\n",
       "\n",
       "    .dataframe tbody tr th {\n",
       "        vertical-align: top;\n",
       "    }\n",
       "\n",
       "    .dataframe thead th {\n",
       "        text-align: right;\n",
       "    }\n",
       "</style>\n",
       "<table border=\"1\" class=\"dataframe\">\n",
       "  <thead>\n",
       "    <tr style=\"text-align: right;\">\n",
       "      <th></th>\n",
       "      <th>agegp</th>\n",
       "      <th>alcgp</th>\n",
       "      <th>tobgp</th>\n",
       "      <th>ncases</th>\n",
       "      <th>ncontrols</th>\n",
       "    </tr>\n",
       "  </thead>\n",
       "  <tbody>\n",
       "    <tr>\n",
       "      <th>0</th>\n",
       "      <td>25-34</td>\n",
       "      <td>0-39g/day</td>\n",
       "      <td>0-9g/day</td>\n",
       "      <td>0</td>\n",
       "      <td>40</td>\n",
       "    </tr>\n",
       "    <tr>\n",
       "      <th>1</th>\n",
       "      <td>25-34</td>\n",
       "      <td>0-39g/day</td>\n",
       "      <td>10-19</td>\n",
       "      <td>0</td>\n",
       "      <td>10</td>\n",
       "    </tr>\n",
       "    <tr>\n",
       "      <th>2</th>\n",
       "      <td>25-34</td>\n",
       "      <td>0-39g/day</td>\n",
       "      <td>20-29</td>\n",
       "      <td>0</td>\n",
       "      <td>6</td>\n",
       "    </tr>\n",
       "    <tr>\n",
       "      <th>3</th>\n",
       "      <td>25-34</td>\n",
       "      <td>0-39g/day</td>\n",
       "      <td>30+</td>\n",
       "      <td>0</td>\n",
       "      <td>5</td>\n",
       "    </tr>\n",
       "    <tr>\n",
       "      <th>4</th>\n",
       "      <td>25-34</td>\n",
       "      <td>40-79</td>\n",
       "      <td>0-9g/day</td>\n",
       "      <td>0</td>\n",
       "      <td>27</td>\n",
       "    </tr>\n",
       "    <tr>\n",
       "      <th>...</th>\n",
       "      <td>...</td>\n",
       "      <td>...</td>\n",
       "      <td>...</td>\n",
       "      <td>...</td>\n",
       "      <td>...</td>\n",
       "    </tr>\n",
       "    <tr>\n",
       "      <th>83</th>\n",
       "      <td>75+</td>\n",
       "      <td>40-79</td>\n",
       "      <td>30+</td>\n",
       "      <td>1</td>\n",
       "      <td>1</td>\n",
       "    </tr>\n",
       "    <tr>\n",
       "      <th>84</th>\n",
       "      <td>75+</td>\n",
       "      <td>80-119</td>\n",
       "      <td>0-9g/day</td>\n",
       "      <td>1</td>\n",
       "      <td>1</td>\n",
       "    </tr>\n",
       "    <tr>\n",
       "      <th>85</th>\n",
       "      <td>75+</td>\n",
       "      <td>80-119</td>\n",
       "      <td>10-19</td>\n",
       "      <td>1</td>\n",
       "      <td>1</td>\n",
       "    </tr>\n",
       "    <tr>\n",
       "      <th>86</th>\n",
       "      <td>75+</td>\n",
       "      <td>120+</td>\n",
       "      <td>0-9g/day</td>\n",
       "      <td>2</td>\n",
       "      <td>2</td>\n",
       "    </tr>\n",
       "    <tr>\n",
       "      <th>87</th>\n",
       "      <td>75+</td>\n",
       "      <td>120+</td>\n",
       "      <td>10-19</td>\n",
       "      <td>1</td>\n",
       "      <td>1</td>\n",
       "    </tr>\n",
       "  </tbody>\n",
       "</table>\n",
       "<p>88 rows × 5 columns</p>\n",
       "</div>"
      ],
      "text/plain": [
       "    agegp      alcgp     tobgp  ncases  ncontrols\n",
       "0   25-34  0-39g/day  0-9g/day       0         40\n",
       "1   25-34  0-39g/day     10-19       0         10\n",
       "2   25-34  0-39g/day     20-29       0          6\n",
       "3   25-34  0-39g/day       30+       0          5\n",
       "4   25-34      40-79  0-9g/day       0         27\n",
       "..    ...        ...       ...     ...        ...\n",
       "83    75+      40-79       30+       1          1\n",
       "84    75+     80-119  0-9g/day       1          1\n",
       "85    75+     80-119     10-19       1          1\n",
       "86    75+       120+  0-9g/day       2          2\n",
       "87    75+       120+     10-19       1          1\n",
       "\n",
       "[88 rows x 5 columns]"
      ]
     },
     "execution_count": 4,
     "metadata": {},
     "output_type": "execute_result"
    }
   ],
   "source": [
    "df"
   ]
  },
  {
   "cell_type": "markdown",
   "id": "c34a0e6a",
   "metadata": {},
   "source": [
    "# Линейная регрессия"
   ]
  },
  {
   "cell_type": "code",
   "execution_count": 5,
   "id": "7f51df21",
   "metadata": {
    "scrolled": true
   },
   "outputs": [
    {
     "name": "stderr",
     "output_type": "stream",
     "text": [
      "/var/folders/9v/5p5m1vyn1l15r6g0mn4h76wc0000gn/T/ipykernel_23793/1904280156.py:8: MatplotlibDeprecationWarning: The seaborn styles shipped by Matplotlib are deprecated since 3.6, as they no longer correspond to the styles shipped by seaborn. However, they will remain available as 'seaborn-v0_8-<style>'. Alternatively, directly use the seaborn API instead.\n",
      "  plt.style.use('seaborn-whitegrid')\n"
     ]
    }
   ],
   "source": [
    "import pandas  as pd #Data manipulation\n",
    "import numpy as np #Data manipulation\n",
    "import matplotlib.pyplot as plt # Visualization\n",
    "import seaborn as sns #Visualization\n",
    "plt.rcParams['figure.figsize'] = [8,5]\n",
    "plt.rcParams['font.size'] =14\n",
    "plt.rcParams['font.weight']= 'bold'\n",
    "plt.style.use('seaborn-whitegrid')"
   ]
  },
  {
   "cell_type": "code",
   "execution_count": 6,
   "id": "9ec57d4f",
   "metadata": {},
   "outputs": [
    {
     "data": {
      "image/png": "[encoded data removed]",
      "text/plain": [
       "<Figure size 1200x600 with 1 Axes>"
      ]
     },
     "metadata": {},
     "output_type": "display_data"
    }
   ],
   "source": [
    "sns.lmplot(x='ncontrols',y='ncases',data=df,aspect=2,height=6)\n",
    "plt.xlabel('ncontrols')\n",
    "plt.ylabel('ncases')\n",
    "plt.title('ncontrols vs ncase');"
   ]
  },
  {
   "cell_type": "code",
   "execution_count": 7,
   "id": "c1e43154",
   "metadata": {},
   "outputs": [
    {
     "data": {
      "text/html": [
       "<div>\n",
       "<style scoped>\n",
       "    .dataframe tbody tr th:only-of-type {\n",
       "        vertical-align: middle;\n",
       "    }\n",
       "\n",
       "    .dataframe tbody tr th {\n",
       "        vertical-align: top;\n",
       "    }\n",
       "\n",
       "    .dataframe thead th {\n",
       "        text-align: right;\n",
       "    }\n",
       "</style>\n",
       "<table border=\"1\" class=\"dataframe\">\n",
       "  <thead>\n",
       "    <tr style=\"text-align: right;\">\n",
       "      <th></th>\n",
       "      <th>ncases</th>\n",
       "      <th>ncontrols</th>\n",
       "    </tr>\n",
       "  </thead>\n",
       "  <tbody>\n",
       "    <tr>\n",
       "      <th>count</th>\n",
       "      <td>88.000000</td>\n",
       "      <td>88.000000</td>\n",
       "    </tr>\n",
       "    <tr>\n",
       "      <th>mean</th>\n",
       "      <td>2.272727</td>\n",
       "      <td>11.079545</td>\n",
       "    </tr>\n",
       "    <tr>\n",
       "      <th>std</th>\n",
       "      <td>2.753169</td>\n",
       "      <td>12.722703</td>\n",
       "    </tr>\n",
       "    <tr>\n",
       "      <th>min</th>\n",
       "      <td>0.000000</td>\n",
       "      <td>1.000000</td>\n",
       "    </tr>\n",
       "    <tr>\n",
       "      <th>25%</th>\n",
       "      <td>0.000000</td>\n",
       "      <td>3.000000</td>\n",
       "    </tr>\n",
       "    <tr>\n",
       "      <th>50%</th>\n",
       "      <td>1.000000</td>\n",
       "      <td>6.000000</td>\n",
       "    </tr>\n",
       "    <tr>\n",
       "      <th>75%</th>\n",
       "      <td>4.000000</td>\n",
       "      <td>14.000000</td>\n",
       "    </tr>\n",
       "    <tr>\n",
       "      <th>max</th>\n",
       "      <td>17.000000</td>\n",
       "      <td>60.000000</td>\n",
       "    </tr>\n",
       "  </tbody>\n",
       "</table>\n",
       "</div>"
      ],
      "text/plain": [
       "          ncases  ncontrols\n",
       "count  88.000000  88.000000\n",
       "mean    2.272727  11.079545\n",
       "std     2.753169  12.722703\n",
       "min     0.000000   1.000000\n",
       "25%     0.000000   3.000000\n",
       "50%     1.000000   6.000000\n",
       "75%     4.000000  14.000000\n",
       "max    17.000000  60.000000"
      ]
     },
     "execution_count": 7,
     "metadata": {},
     "output_type": "execute_result"
    }
   ],
   "source": [
    "df.describe()"
   ]
  },
  {
   "cell_type": "code",
   "execution_count": 8,
   "id": "5861ed78",
   "metadata": {},
   "outputs": [
    {
     "name": "stderr",
     "output_type": "stream",
     "text": [
      "/var/folders/9v/5p5m1vyn1l15r6g0mn4h76wc0000gn/T/ipykernel_23793/3099542220.py:2: FutureWarning: The default value of numeric_only in DataFrame.corr is deprecated. In a future version, it will default to False. Select only valid columns or specify the value of numeric_only to silence this warning.\n",
      "  corr = df.corr()\n"
     ]
    },
    {
     "data": {
      "image/png": "[encoded data removed]",
      "text/plain": [
       "<Figure size 800x500 with 2 Axes>"
      ]
     },
     "metadata": {},
     "output_type": "display_data"
    }
   ],
   "source": [
    "# correlation plot\n",
    "corr = df.corr()\n",
    "sns.heatmap(corr, cmap = 'Wistia', annot= True);"
   ]
  },
  {
   "cell_type": "markdown",
   "id": "92b9b9cb",
   "metadata": {},
   "source": [
    "кореляция отсутствует"
   ]
  },
  {
   "cell_type": "code",
   "execution_count": 9,
   "id": "8def4f38",
   "metadata": {},
   "outputs": [
    {
     "name": "stderr",
     "output_type": "stream",
     "text": [
      "/var/folders/9v/5p5m1vyn1l15r6g0mn4h76wc0000gn/T/ipykernel_23793/597444578.py:4: UserWarning: \n",
      "\n",
      "`distplot` is a deprecated function and will be removed in seaborn v0.14.0.\n",
      "\n",
      "Please adapt your code to use either `displot` (a figure-level function with\n",
      "similar flexibility) or `histplot` (an axes-level function for histograms).\n",
      "\n",
      "For a guide to updating your code to use the new functions, please see\n",
      "https://gist.github.com/mwaskom/de44147ed2974457ad6372750bbe5751\n",
      "\n",
      "  sns.distplot(df['ncontrols'],bins=50,color='r',ax=ax)\n",
      "/var/folders/9v/5p5m1vyn1l15r6g0mn4h76wc0000gn/T/ipykernel_23793/597444578.py:8: UserWarning: \n",
      "\n",
      "`distplot` is a deprecated function and will be removed in seaborn v0.14.0.\n",
      "\n",
      "Please adapt your code to use either `displot` (a figure-level function with\n",
      "similar flexibility) or `histplot` (an axes-level function for histograms).\n",
      "\n",
      "For a guide to updating your code to use the new functions, please see\n",
      "https://gist.github.com/mwaskom/de44147ed2974457ad6372750bbe5751\n",
      "\n",
      "  sns.distplot(np.log10(df['ncontrols']),bins=40,color='b',ax=ax)\n"
     ]
    },
    {
     "data": {
      "image/png": "[encoded data removed]",
      "text/plain": [
       "<Figure size 1200x400 with 2 Axes>"
      ]
     },
     "metadata": {},
     "output_type": "display_data"
    }
   ],
   "source": [
    "f= plt.figure(figsize=(12,4))\n",
    "\n",
    "ax=f.add_subplot(121)\n",
    "sns.distplot(df['ncontrols'],bins=50,color='r',ax=ax)\n",
    "ax.set_title('Distribution of ncontrols')\n",
    "\n",
    "ax=f.add_subplot(122)\n",
    "sns.distplot(np.log10(df['ncontrols']),bins=40,color='b',ax=ax)\n",
    "ax.set_title('Distribution of ncontrols')\n",
    "ax.set_xscale('log');"
   ]
  },
  {
   "cell_type": "code",
   "execution_count": 10,
   "id": "0f33c1db",
   "metadata": {},
   "outputs": [
    {
     "data": {
      "text/plain": [
       "Text(0.5, 1.0, 'Violin plot of ncontrols vs ncases')"
      ]
     },
     "execution_count": 10,
     "metadata": {},
     "output_type": "execute_result"
    },
    {
     "data": {
      "image/png": "[encoded data removed]",
      "text/plain": [
       "<Figure size 1400x600 with 1 Axes>"
      ]
     },
     "metadata": {},
     "output_type": "display_data"
    }
   ],
   "source": [
    "f = plt.figure(figsize=(14,6))\n",
    "ax = f.add_subplot(121)\n",
    "sns.violinplot(x='ncases', y='ncontrols',data=df,palette='Wistia',ax=ax)\n",
    "ax.set_title('Violin plot of ncontrols vs ncases')\n"
   ]
  },
  {
   "cell_type": "code",
   "execution_count": 11,
   "id": "b13e8d05",
   "metadata": {},
   "outputs": [
    {
     "data": {
      "image/png": "[encoded data removed]",
      "text/plain": [
       "<Figure size 1400x600 with 1 Axes>"
      ]
     },
     "metadata": {},
     "output_type": "display_data"
    }
   ],
   "source": [
    "plt.figure(figsize=(14,6))\n",
    "sns.boxplot(x='tobgp', y='ncontrols',hue='agegp',data=df,palette='rainbow')\n",
    "plt.title('Box plot of tobgps');"
   ]
  },
  {
   "cell_type": "markdown",
   "id": "e1457298",
   "metadata": {},
   "source": [
    "# Преобразование категориальных переменных"
   ]
  },
  {
   "cell_type": "markdown",
   "id": "f21a7812",
   "metadata": {},
   "source": [
    "Напишем функцию расчёта основных показателей регрессии"
   ]
  },
  {
   "cell_type": "code",
   "execution_count": 12,
   "id": "d8e8526d",
   "metadata": {},
   "outputs": [],
   "source": [
    "\n",
    "def regression_results(y_true, y_pred):\n",
    "    explained_variance=metrics.explained_variance_score(y_true, y_pred)\n",
    "    mean_absolute_error=metrics.mean_absolute_error(y_true, y_pred) \n",
    "    mse=metrics.mean_squared_error(y_true, y_pred) \n",
    "\n",
    "    median_absolute_error=metrics.median_absolute_error(y_true, y_pred)\n",
    "    r2=metrics.r2_score(y_true, y_pred)\n",
    "\n",
    "    print('explained_variance: ', round(explained_variance,4))\n",
    "    try:\n",
    "      mean_squared_log_error=metrics.mean_squared_log_error(y_true, y_pred)\n",
    "      print('mean_squared_log_error: ', round(mean_squared_log_error,4))\n",
    "    except:\n",
    "      pass    \n",
    "    print('r2: ', round(r2,4))\n",
    "    print('MAE: ', round(mean_absolute_error,4))\n",
    "    print('MSE: ', round(mse,4))\n",
    "    print('RMSE: ', round(np.sqrt(mse),4))"
   ]
  },
  {
   "cell_type": "code",
   "execution_count": 13,
   "id": "177d3091",
   "metadata": {},
   "outputs": [
    {
     "data": {
      "text/html": [
       "<div>\n",
       "<style scoped>\n",
       "    .dataframe tbody tr th:only-of-type {\n",
       "        vertical-align: middle;\n",
       "    }\n",
       "\n",
       "    .dataframe tbody tr th {\n",
       "        vertical-align: top;\n",
       "    }\n",
       "\n",
       "    .dataframe thead th {\n",
       "        text-align: right;\n",
       "    }\n",
       "</style>\n",
       "<table border=\"1\" class=\"dataframe\">\n",
       "  <thead>\n",
       "    <tr style=\"text-align: right;\">\n",
       "      <th></th>\n",
       "      <th>agegp</th>\n",
       "      <th>alcgp</th>\n",
       "      <th>tobgp</th>\n",
       "      <th>ncases</th>\n",
       "      <th>ncontrols</th>\n",
       "    </tr>\n",
       "  </thead>\n",
       "  <tbody>\n",
       "    <tr>\n",
       "      <th>0</th>\n",
       "      <td>25-34</td>\n",
       "      <td>0-39g/day</td>\n",
       "      <td>0-9g/day</td>\n",
       "      <td>0</td>\n",
       "      <td>40</td>\n",
       "    </tr>\n",
       "    <tr>\n",
       "      <th>1</th>\n",
       "      <td>25-34</td>\n",
       "      <td>0-39g/day</td>\n",
       "      <td>10-19</td>\n",
       "      <td>0</td>\n",
       "      <td>10</td>\n",
       "    </tr>\n",
       "    <tr>\n",
       "      <th>2</th>\n",
       "      <td>25-34</td>\n",
       "      <td>0-39g/day</td>\n",
       "      <td>20-29</td>\n",
       "      <td>0</td>\n",
       "      <td>6</td>\n",
       "    </tr>\n",
       "    <tr>\n",
       "      <th>3</th>\n",
       "      <td>25-34</td>\n",
       "      <td>0-39g/day</td>\n",
       "      <td>30+</td>\n",
       "      <td>0</td>\n",
       "      <td>5</td>\n",
       "    </tr>\n",
       "    <tr>\n",
       "      <th>4</th>\n",
       "      <td>25-34</td>\n",
       "      <td>40-79</td>\n",
       "      <td>0-9g/day</td>\n",
       "      <td>0</td>\n",
       "      <td>27</td>\n",
       "    </tr>\n",
       "    <tr>\n",
       "      <th>...</th>\n",
       "      <td>...</td>\n",
       "      <td>...</td>\n",
       "      <td>...</td>\n",
       "      <td>...</td>\n",
       "      <td>...</td>\n",
       "    </tr>\n",
       "    <tr>\n",
       "      <th>83</th>\n",
       "      <td>75+</td>\n",
       "      <td>40-79</td>\n",
       "      <td>30+</td>\n",
       "      <td>1</td>\n",
       "      <td>1</td>\n",
       "    </tr>\n",
       "    <tr>\n",
       "      <th>84</th>\n",
       "      <td>75+</td>\n",
       "      <td>80-119</td>\n",
       "      <td>0-9g/day</td>\n",
       "      <td>1</td>\n",
       "      <td>1</td>\n",
       "    </tr>\n",
       "    <tr>\n",
       "      <th>85</th>\n",
       "      <td>75+</td>\n",
       "      <td>80-119</td>\n",
       "      <td>10-19</td>\n",
       "      <td>1</td>\n",
       "      <td>1</td>\n",
       "    </tr>\n",
       "    <tr>\n",
       "      <th>86</th>\n",
       "      <td>75+</td>\n",
       "      <td>120+</td>\n",
       "      <td>0-9g/day</td>\n",
       "      <td>2</td>\n",
       "      <td>2</td>\n",
       "    </tr>\n",
       "    <tr>\n",
       "      <th>87</th>\n",
       "      <td>75+</td>\n",
       "      <td>120+</td>\n",
       "      <td>10-19</td>\n",
       "      <td>1</td>\n",
       "      <td>1</td>\n",
       "    </tr>\n",
       "  </tbody>\n",
       "</table>\n",
       "<p>88 rows × 5 columns</p>\n",
       "</div>"
      ],
      "text/plain": [
       "    agegp      alcgp     tobgp  ncases  ncontrols\n",
       "0   25-34  0-39g/day  0-9g/day       0         40\n",
       "1   25-34  0-39g/day     10-19       0         10\n",
       "2   25-34  0-39g/day     20-29       0          6\n",
       "3   25-34  0-39g/day       30+       0          5\n",
       "4   25-34      40-79  0-9g/day       0         27\n",
       "..    ...        ...       ...     ...        ...\n",
       "83    75+      40-79       30+       1          1\n",
       "84    75+     80-119  0-9g/day       1          1\n",
       "85    75+     80-119     10-19       1          1\n",
       "86    75+       120+  0-9g/day       2          2\n",
       "87    75+       120+     10-19       1          1\n",
       "\n",
       "[88 rows x 5 columns]"
      ]
     },
     "execution_count": 13,
     "metadata": {},
     "output_type": "execute_result"
    }
   ],
   "source": [
    "df"
   ]
  },
  {
   "cell_type": "markdown",
   "id": "ef3dca79",
   "metadata": {},
   "source": [
    "ПРименим one-hot encoding"
   ]
  },
  {
   "cell_type": "code",
   "execution_count": 14,
   "id": "28b67719",
   "metadata": {},
   "outputs": [],
   "source": [
    "categorical_columns = ['agegp','alcgp', 'tobgp']\n",
    "df_encode = pd.get_dummies(data = df, prefix = 'OHE', prefix_sep='_',\n",
    "               columns = categorical_columns,\n",
    "               drop_first =True,\n",
    "              dtype='int64')"
   ]
  },
  {
   "cell_type": "code",
   "execution_count": 15,
   "id": "262e4c48",
   "metadata": {
    "scrolled": true
   },
   "outputs": [
    {
     "data": {
      "text/plain": [
       "array(['25-34', '35-44', '45-54', '55-64', '65-74', '75+'], dtype=object)"
      ]
     },
     "execution_count": 15,
     "metadata": {},
     "output_type": "execute_result"
    }
   ],
   "source": [
    "df['agegp'].unique()"
   ]
  },
  {
   "cell_type": "code",
   "execution_count": 16,
   "id": "5b1be4b6",
   "metadata": {},
   "outputs": [
    {
     "data": {
      "text/plain": [
       "array(['0-9g/day', '10-19', '20-29', '30+'], dtype=object)"
      ]
     },
     "execution_count": 16,
     "metadata": {},
     "output_type": "execute_result"
    }
   ],
   "source": [
    "df['tobgp'].unique()"
   ]
  },
  {
   "cell_type": "code",
   "execution_count": 17,
   "id": "5dd72d99",
   "metadata": {},
   "outputs": [
    {
     "data": {
      "text/plain": [
       "array(['0-39g/day', '40-79', '80-119', '120+'], dtype=object)"
      ]
     },
     "execution_count": 17,
     "metadata": {},
     "output_type": "execute_result"
    }
   ],
   "source": [
    "df['alcgp'].unique()"
   ]
  },
  {
   "cell_type": "code",
   "execution_count": 18,
   "id": "d9b73f31",
   "metadata": {
    "scrolled": true
   },
   "outputs": [
    {
     "data": {
      "text/html": [
       "<div>\n",
       "<style scoped>\n",
       "    .dataframe tbody tr th:only-of-type {\n",
       "        vertical-align: middle;\n",
       "    }\n",
       "\n",
       "    .dataframe tbody tr th {\n",
       "        vertical-align: top;\n",
       "    }\n",
       "\n",
       "    .dataframe thead th {\n",
       "        text-align: right;\n",
       "    }\n",
       "</style>\n",
       "<table border=\"1\" class=\"dataframe\">\n",
       "  <thead>\n",
       "    <tr style=\"text-align: right;\">\n",
       "      <th></th>\n",
       "      <th>ncases</th>\n",
       "      <th>ncontrols</th>\n",
       "      <th>OHE_35-44</th>\n",
       "      <th>OHE_45-54</th>\n",
       "      <th>OHE_55-64</th>\n",
       "      <th>OHE_65-74</th>\n",
       "      <th>OHE_75+</th>\n",
       "      <th>OHE_120+</th>\n",
       "      <th>OHE_40-79</th>\n",
       "      <th>OHE_80-119</th>\n",
       "      <th>OHE_10-19</th>\n",
       "      <th>OHE_20-29</th>\n",
       "      <th>OHE_30+</th>\n",
       "    </tr>\n",
       "  </thead>\n",
       "  <tbody>\n",
       "    <tr>\n",
       "      <th>0</th>\n",
       "      <td>0</td>\n",
       "      <td>40</td>\n",
       "      <td>0</td>\n",
       "      <td>0</td>\n",
       "      <td>0</td>\n",
       "      <td>0</td>\n",
       "      <td>0</td>\n",
       "      <td>0</td>\n",
       "      <td>0</td>\n",
       "      <td>0</td>\n",
       "      <td>0</td>\n",
       "      <td>0</td>\n",
       "      <td>0</td>\n",
       "    </tr>\n",
       "    <tr>\n",
       "      <th>1</th>\n",
       "      <td>0</td>\n",
       "      <td>10</td>\n",
       "      <td>0</td>\n",
       "      <td>0</td>\n",
       "      <td>0</td>\n",
       "      <td>0</td>\n",
       "      <td>0</td>\n",
       "      <td>0</td>\n",
       "      <td>0</td>\n",
       "      <td>0</td>\n",
       "      <td>1</td>\n",
       "      <td>0</td>\n",
       "      <td>0</td>\n",
       "    </tr>\n",
       "    <tr>\n",
       "      <th>2</th>\n",
       "      <td>0</td>\n",
       "      <td>6</td>\n",
       "      <td>0</td>\n",
       "      <td>0</td>\n",
       "      <td>0</td>\n",
       "      <td>0</td>\n",
       "      <td>0</td>\n",
       "      <td>0</td>\n",
       "      <td>0</td>\n",
       "      <td>0</td>\n",
       "      <td>0</td>\n",
       "      <td>1</td>\n",
       "      <td>0</td>\n",
       "    </tr>\n",
       "    <tr>\n",
       "      <th>3</th>\n",
       "      <td>0</td>\n",
       "      <td>5</td>\n",
       "      <td>0</td>\n",
       "      <td>0</td>\n",
       "      <td>0</td>\n",
       "      <td>0</td>\n",
       "      <td>0</td>\n",
       "      <td>0</td>\n",
       "      <td>0</td>\n",
       "      <td>0</td>\n",
       "      <td>0</td>\n",
       "      <td>0</td>\n",
       "      <td>1</td>\n",
       "    </tr>\n",
       "    <tr>\n",
       "      <th>4</th>\n",
       "      <td>0</td>\n",
       "      <td>27</td>\n",
       "      <td>0</td>\n",
       "      <td>0</td>\n",
       "      <td>0</td>\n",
       "      <td>0</td>\n",
       "      <td>0</td>\n",
       "      <td>0</td>\n",
       "      <td>1</td>\n",
       "      <td>0</td>\n",
       "      <td>0</td>\n",
       "      <td>0</td>\n",
       "      <td>0</td>\n",
       "    </tr>\n",
       "  </tbody>\n",
       "</table>\n",
       "</div>"
      ],
      "text/plain": [
       "   ncases  ncontrols  OHE_35-44  OHE_45-54  OHE_55-64  OHE_65-74  OHE_75+  \\\n",
       "0       0         40          0          0          0          0        0   \n",
       "1       0         10          0          0          0          0        0   \n",
       "2       0          6          0          0          0          0        0   \n",
       "3       0          5          0          0          0          0        0   \n",
       "4       0         27          0          0          0          0        0   \n",
       "\n",
       "   OHE_120+  OHE_40-79  OHE_80-119  OHE_10-19  OHE_20-29  OHE_30+  \n",
       "0         0          0           0          0          0        0  \n",
       "1         0          0           0          1          0        0  \n",
       "2         0          0           0          0          1        0  \n",
       "3         0          0           0          0          0        1  \n",
       "4         0          1           0          0          0        0  "
      ]
     },
     "execution_count": 18,
     "metadata": {},
     "output_type": "execute_result"
    }
   ],
   "source": [
    "df_encode.head()"
   ]
  },
  {
   "cell_type": "markdown",
   "id": "f6d3d587",
   "metadata": {},
   "source": [
    "Построим модель линейной регрессии"
   ]
  },
  {
   "cell_type": "code",
   "execution_count": 19,
   "id": "a6eed6e5",
   "metadata": {},
   "outputs": [],
   "source": [
    "X =df_encode.drop(columns=\"ncontrols\")\n",
    "Y=df_encode[\"ncontrols\"]\n",
    "X_train, X_test, y_train, y_test = train_test_split(X,Y,random_state=1)"
   ]
  },
  {
   "cell_type": "code",
   "execution_count": 20,
   "id": "0bbe0861",
   "metadata": {},
   "outputs": [
    {
     "data": {
      "text/plain": [
       "LinearRegression()"
      ]
     },
     "execution_count": 20,
     "metadata": {},
     "output_type": "execute_result"
    }
   ],
   "source": [
    "model = LinearRegression(fit_intercept=True)  # объявляем модель\n",
    "model.fit(X_train, y_train)"
   ]
  },
  {
   "cell_type": "markdown",
   "id": "6b5081f9",
   "metadata": {},
   "source": [
    "Коэффициенты перед теттами в функции"
   ]
  },
  {
   "cell_type": "code",
   "execution_count": 21,
   "id": "7180195d",
   "metadata": {},
   "outputs": [
    {
     "data": {
      "text/plain": [
       "array([  0.6595408 ,   5.75405208,   3.71304815,   5.79295011,\n",
       "         1.92922155,  -9.89852368, -16.75161675,  -3.07191564,\n",
       "       -14.53981597, -13.29998371, -16.62771956, -18.77475326])"
      ]
     },
     "execution_count": 21,
     "metadata": {},
     "output_type": "execute_result"
    }
   ],
   "source": [
    "model.coef_"
   ]
  },
  {
   "cell_type": "markdown",
   "id": "938ea386",
   "metadata": {},
   "source": [
    "Свободная переменная"
   ]
  },
  {
   "cell_type": "code",
   "execution_count": 22,
   "id": "5cebf2b6",
   "metadata": {},
   "outputs": [
    {
     "data": {
      "text/plain": [
       "27.576450342277596"
      ]
     },
     "execution_count": 22,
     "metadata": {},
     "output_type": "execute_result"
    }
   ],
   "source": [
    "model.intercept_"
   ]
  },
  {
   "cell_type": "code",
   "execution_count": 23,
   "id": "eeaed297",
   "metadata": {},
   "outputs": [],
   "source": [
    "test_preds = model.predict(X_test)"
   ]
  },
  {
   "cell_type": "code",
   "execution_count": 24,
   "id": "f0e1e9d9",
   "metadata": {},
   "outputs": [
    {
     "name": "stdout",
     "output_type": "stream",
     "text": [
      "explained_variance:  0.5415\n",
      "r2:  0.5387\n",
      "MAE:  6.3593\n",
      "MSE:  58.1102\n",
      "RMSE:  7.623\n"
     ]
    }
   ],
   "source": [
    "regression_results(y_test,test_preds)"
   ]
  },
  {
   "cell_type": "markdown",
   "id": "632506ab",
   "metadata": {},
   "source": [
    "Качество модели можно назвать средним. Будем улучшаять MSE через lasso и ridge."
   ]
  },
  {
   "cell_type": "code",
   "execution_count": 25,
   "id": "f6b67b3a",
   "metadata": {},
   "outputs": [
    {
     "name": "stderr",
     "output_type": "stream",
     "text": [
      "/var/folders/9v/5p5m1vyn1l15r6g0mn4h76wc0000gn/T/ipykernel_23793/3738467970.py:7: UserWarning: \n",
      "\n",
      "`distplot` is a deprecated function and will be removed in seaborn v0.14.0.\n",
      "\n",
      "Please adapt your code to use either `displot` (a figure-level function with\n",
      "similar flexibility) or `histplot` (an axes-level function for histograms).\n",
      "\n",
      "For a guide to updating your code to use the new functions, please see\n",
      "https://gist.github.com/mwaskom/de44147ed2974457ad6372750bbe5751\n",
      "\n",
      "  sns.distplot((y_test - test_preds),ax=ax,color='b')\n"
     ]
    },
    {
     "data": {
      "image/png": "[encoded data removed]",
      "text/plain": [
       "<Figure size 1400x500 with 2 Axes>"
      ]
     },
     "metadata": {},
     "output_type": "display_data"
    }
   ],
   "source": [
    "f = plt.figure(figsize=(14,5))\n",
    "ax = f.add_subplot(121)\n",
    "sns.scatterplot(y_test,ax=ax,color='r')\n",
    "ax.set_title('Check for Linearity:\\n Actual Vs Predicted value')\n",
    "\n",
    "ax = f.add_subplot(122)\n",
    "sns.distplot((y_test - test_preds),ax=ax,color='b')\n",
    "ax.axvline((y_test - test_preds).mean(),color='k',linestyle='--')\n",
    "ax.set_title('Check for Residual normality & mean: \\n Residual eror');"
   ]
  },
  {
   "cell_type": "code",
   "execution_count": 26,
   "id": "c8561865",
   "metadata": {
    "scrolled": false
   },
   "outputs": [
    {
     "data": {
      "image/png": "[encoded data removed]",
      "text/plain": [
       "<Figure size 1400x600 with 2 Axes>"
      ]
     },
     "metadata": {},
     "output_type": "display_data"
    }
   ],
   "source": [
    "f,ax = plt.subplots(1,2,figsize=(14,6))\n",
    "import scipy as sp\n",
    "_,(_,_,r)= sp.stats.probplot((y_test - test_preds),fit=True,plot=ax[0])\n",
    "ax[0].set_title('Check for Multivariate Normality: \\nQ-Q Plot')\n",
    "\n",
    "#Check for Homoscedasticity\n",
    "sns.scatterplot(y = (y_test - test_preds), x= test_preds, ax = ax[1],color='r') \n",
    "ax[1].set_title('Check for Homoscedasticity: \\nResidual Vs Predicted');"
   ]
  },
  {
   "cell_type": "markdown",
   "id": "8e511657",
   "metadata": {},
   "source": [
    "# Lasso"
   ]
  },
  {
   "cell_type": "markdown",
   "id": "1dfdecfc",
   "metadata": {},
   "source": [
    "Лассо-регрессия накладывает штраф на l1-норму бета-вектора. l1-норма вектора — это сумма абсолютных значений в этом векторе. Это заставляет лассо-регрессию обнулять некоторые коэффициенты в бета-векторе."
   ]
  },
  {
   "cell_type": "code",
   "execution_count": 27,
   "id": "6b6e06b1",
   "metadata": {},
   "outputs": [
    {
     "data": {
      "text/plain": [
       "LassoCV(cv=10, max_iter=100000, normalize=True)"
      ]
     },
     "execution_count": 27,
     "metadata": {},
     "output_type": "execute_result"
    }
   ],
   "source": [
    "from sklearn.linear_model import Lasso, LassoCV\n",
    "\n",
    "lasso_cv = LassoCV(alphas = None, cv = 10, max_iter = 100000, normalize = True)\n",
    "lasso_cv.fit(X_train, y_train)"
   ]
  },
  {
   "cell_type": "markdown",
   "id": "29b6d506",
   "metadata": {},
   "source": [
    "Находим искомую альфа."
   ]
  },
  {
   "cell_type": "code",
   "execution_count": 28,
   "id": "aeb62680",
   "metadata": {},
   "outputs": [
    {
     "data": {
      "text/plain": [
       "0.03131069372783516"
      ]
     },
     "execution_count": 28,
     "metadata": {},
     "output_type": "execute_result"
    }
   ],
   "source": [
    "alpha = lasso_cv.alpha_\n",
    "alpha"
   ]
  },
  {
   "cell_type": "code",
   "execution_count": 29,
   "id": "592451d1",
   "metadata": {},
   "outputs": [
    {
     "data": {
      "text/plain": [
       "Lasso(alpha=0.03131069372783516)"
      ]
     },
     "execution_count": 29,
     "metadata": {},
     "output_type": "execute_result"
    }
   ],
   "source": [
    "lasso = Lasso(alpha = lasso_cv.alpha_)\n",
    "lasso.fit(X_train, y_train)"
   ]
  },
  {
   "cell_type": "code",
   "execution_count": 30,
   "id": "32c7e17c",
   "metadata": {},
   "outputs": [],
   "source": [
    "lasso_pred = lasso.predict(X_test)"
   ]
  },
  {
   "cell_type": "code",
   "execution_count": 31,
   "id": "80eac32b",
   "metadata": {},
   "outputs": [
    {
     "name": "stdout",
     "output_type": "stream",
     "text": [
      "explained_variance:  0.556\n",
      "r2:  0.5531\n",
      "MAE:  6.2637\n",
      "MSE:  56.302\n",
      "RMSE:  7.5035\n"
     ]
    }
   ],
   "source": [
    "regression_results(y_test,lasso_pred)"
   ]
  },
  {
   "cell_type": "markdown",
   "id": "2922e611",
   "metadata": {},
   "source": [
    "Точность на обучающей выборке."
   ]
  },
  {
   "cell_type": "code",
   "execution_count": 32,
   "id": "fb50d917",
   "metadata": {},
   "outputs": [
    {
     "data": {
      "text/plain": [
       "0.7191112616589219"
      ]
     },
     "execution_count": 32,
     "metadata": {},
     "output_type": "execute_result"
    }
   ],
   "source": [
    "lasso.score(X_train, y_train)"
   ]
  },
  {
   "cell_type": "markdown",
   "id": "266a10bf",
   "metadata": {},
   "source": [
    "Точность на тестовой выборке."
   ]
  },
  {
   "cell_type": "code",
   "execution_count": 33,
   "id": "50359249",
   "metadata": {},
   "outputs": [
    {
     "data": {
      "text/plain": [
       "0.5530705561863434"
      ]
     },
     "execution_count": 33,
     "metadata": {},
     "output_type": "execute_result"
    }
   ],
   "source": [
    "lasso.score(X_test, y_test)"
   ]
  },
  {
   "cell_type": "code",
   "execution_count": 34,
   "id": "d6b2d632",
   "metadata": {},
   "outputs": [],
   "source": [
    "names = X_train.columns"
   ]
  },
  {
   "cell_type": "markdown",
   "id": "798929a0",
   "metadata": {},
   "source": [
    "Оценим влияние паарамтера альфа на признаки."
   ]
  },
  {
   "cell_type": "code",
   "execution_count": 35,
   "id": "059a88ee",
   "metadata": {},
   "outputs": [],
   "source": [
    "def lasso1(alphas):\n",
    "    df = pd.DataFrame()\n",
    "    df['Feature Name'] = names\n",
    "    for alpha in alphas:\n",
    "        lasso = Lasso(alpha=alpha)\n",
    "        lasso.fit(X, Y)\n",
    "        column_name = 'Alpha = %f' % alpha\n",
    "        df[column_name] = lasso.coef_\n",
    "    return df"
   ]
  },
  {
   "cell_type": "code",
   "execution_count": 36,
   "id": "24ce8941",
   "metadata": {},
   "outputs": [
    {
     "data": {
      "text/html": [
       "<div>\n",
       "<style scoped>\n",
       "    .dataframe tbody tr th:only-of-type {\n",
       "        vertical-align: middle;\n",
       "    }\n",
       "\n",
       "    .dataframe tbody tr th {\n",
       "        vertical-align: top;\n",
       "    }\n",
       "\n",
       "    .dataframe thead th {\n",
       "        text-align: right;\n",
       "    }\n",
       "</style>\n",
       "<table border=\"1\" class=\"dataframe\">\n",
       "  <thead>\n",
       "    <tr style=\"text-align: right;\">\n",
       "      <th></th>\n",
       "      <th>Feature Name</th>\n",
       "      <th>Alpha = 0.031311</th>\n",
       "    </tr>\n",
       "  </thead>\n",
       "  <tbody>\n",
       "    <tr>\n",
       "      <th>0</th>\n",
       "      <td>ncases</td>\n",
       "      <td>0.595624</td>\n",
       "    </tr>\n",
       "    <tr>\n",
       "      <th>1</th>\n",
       "      <td>OHE_35-44</td>\n",
       "      <td>4.130396</td>\n",
       "    </tr>\n",
       "    <tr>\n",
       "      <th>2</th>\n",
       "      <td>OHE_45-54</td>\n",
       "      <td>3.806550</td>\n",
       "    </tr>\n",
       "    <tr>\n",
       "      <th>3</th>\n",
       "      <td>OHE_55-64</td>\n",
       "      <td>4.502533</td>\n",
       "    </tr>\n",
       "    <tr>\n",
       "      <th>4</th>\n",
       "      <td>OHE_65-74</td>\n",
       "      <td>0.625566</td>\n",
       "    </tr>\n",
       "    <tr>\n",
       "      <th>5</th>\n",
       "      <td>OHE_75+</td>\n",
       "      <td>-8.132068</td>\n",
       "    </tr>\n",
       "    <tr>\n",
       "      <th>6</th>\n",
       "      <td>OHE_120+</td>\n",
       "      <td>-15.847235</td>\n",
       "    </tr>\n",
       "    <tr>\n",
       "      <th>7</th>\n",
       "      <td>OHE_40-79</td>\n",
       "      <td>-3.031690</td>\n",
       "    </tr>\n",
       "    <tr>\n",
       "      <th>8</th>\n",
       "      <td>OHE_80-119</td>\n",
       "      <td>-12.732810</td>\n",
       "    </tr>\n",
       "    <tr>\n",
       "      <th>9</th>\n",
       "      <td>OHE_10-19</td>\n",
       "      <td>-11.085610</td>\n",
       "    </tr>\n",
       "    <tr>\n",
       "      <th>10</th>\n",
       "      <td>OHE_20-29</td>\n",
       "      <td>-15.708751</td>\n",
       "    </tr>\n",
       "    <tr>\n",
       "      <th>11</th>\n",
       "      <td>OHE_30+</td>\n",
       "      <td>-17.812181</td>\n",
       "    </tr>\n",
       "  </tbody>\n",
       "</table>\n",
       "</div>"
      ],
      "text/plain": [
       "   Feature Name  Alpha = 0.031311\n",
       "0        ncases          0.595624\n",
       "1     OHE_35-44          4.130396\n",
       "2     OHE_45-54          3.806550\n",
       "3     OHE_55-64          4.502533\n",
       "4     OHE_65-74          0.625566\n",
       "5       OHE_75+         -8.132068\n",
       "6      OHE_120+        -15.847235\n",
       "7     OHE_40-79         -3.031690\n",
       "8    OHE_80-119        -12.732810\n",
       "9     OHE_10-19        -11.085610\n",
       "10    OHE_20-29        -15.708751\n",
       "11      OHE_30+        -17.812181"
      ]
     },
     "execution_count": 36,
     "metadata": {},
     "output_type": "execute_result"
    }
   ],
   "source": [
    "lasso1([alpha])"
   ]
  },
  {
   "cell_type": "markdown",
   "id": "0923864d",
   "metadata": {},
   "source": [
    "## Корреляции между целевым значением и признаками"
   ]
  },
  {
   "cell_type": "code",
   "execution_count": 37,
   "id": "67397ec2",
   "metadata": {},
   "outputs": [
    {
     "name": "stderr",
     "output_type": "stream",
     "text": [
      "/var/folders/9v/5p5m1vyn1l15r6g0mn4h76wc0000gn/T/ipykernel_23793/146390907.py:1: SettingWithCopyWarning: \n",
      "A value is trying to be set on a copy of a slice from a DataFrame.\n",
      "Try using .loc[row_indexer,col_indexer] = value instead\n",
      "\n",
      "See the caveats in the documentation: https://pandas.pydata.org/pandas-docs/stable/user_guide/indexing.html#returning-a-view-versus-a-copy\n",
      "  X_test[\"lasso\"] = lasso_pred\n"
     ]
    }
   ],
   "source": [
    "X_test[\"lasso\"] = lasso_pred"
   ]
  },
  {
   "cell_type": "code",
   "execution_count": 38,
   "id": "c9372388",
   "metadata": {},
   "outputs": [
    {
     "data": {
      "text/html": [
       "<div>\n",
       "<style scoped>\n",
       "    .dataframe tbody tr th:only-of-type {\n",
       "        vertical-align: middle;\n",
       "    }\n",
       "\n",
       "    .dataframe tbody tr th {\n",
       "        vertical-align: top;\n",
       "    }\n",
       "\n",
       "    .dataframe thead th {\n",
       "        text-align: right;\n",
       "    }\n",
       "</style>\n",
       "<table border=\"1\" class=\"dataframe\">\n",
       "  <thead>\n",
       "    <tr style=\"text-align: right;\">\n",
       "      <th></th>\n",
       "      <th>ncases</th>\n",
       "      <th>OHE_35-44</th>\n",
       "      <th>OHE_45-54</th>\n",
       "      <th>OHE_55-64</th>\n",
       "      <th>OHE_65-74</th>\n",
       "      <th>OHE_75+</th>\n",
       "      <th>OHE_120+</th>\n",
       "      <th>OHE_40-79</th>\n",
       "      <th>OHE_80-119</th>\n",
       "      <th>OHE_10-19</th>\n",
       "      <th>OHE_20-29</th>\n",
       "      <th>OHE_30+</th>\n",
       "      <th>lasso</th>\n",
       "    </tr>\n",
       "  </thead>\n",
       "  <tbody>\n",
       "    <tr>\n",
       "      <th>60</th>\n",
       "      <td>2</td>\n",
       "      <td>0</td>\n",
       "      <td>0</td>\n",
       "      <td>1</td>\n",
       "      <td>0</td>\n",
       "      <td>0</td>\n",
       "      <td>1</td>\n",
       "      <td>0</td>\n",
       "      <td>0</td>\n",
       "      <td>0</td>\n",
       "      <td>1</td>\n",
       "      <td>0</td>\n",
       "      <td>1.141834</td>\n",
       "    </tr>\n",
       "    <tr>\n",
       "      <th>69</th>\n",
       "      <td>6</td>\n",
       "      <td>0</td>\n",
       "      <td>0</td>\n",
       "      <td>0</td>\n",
       "      <td>1</td>\n",
       "      <td>0</td>\n",
       "      <td>0</td>\n",
       "      <td>0</td>\n",
       "      <td>1</td>\n",
       "      <td>0</td>\n",
       "      <td>0</td>\n",
       "      <td>0</td>\n",
       "      <td>18.731508</td>\n",
       "    </tr>\n",
       "    <tr>\n",
       "      <th>53</th>\n",
       "      <td>3</td>\n",
       "      <td>0</td>\n",
       "      <td>0</td>\n",
       "      <td>1</td>\n",
       "      <td>0</td>\n",
       "      <td>0</td>\n",
       "      <td>0</td>\n",
       "      <td>1</td>\n",
       "      <td>0</td>\n",
       "      <td>0</td>\n",
       "      <td>0</td>\n",
       "      <td>1</td>\n",
       "      <td>13.038875</td>\n",
       "    </tr>\n",
       "    <tr>\n",
       "      <th>54</th>\n",
       "      <td>9</td>\n",
       "      <td>0</td>\n",
       "      <td>0</td>\n",
       "      <td>1</td>\n",
       "      <td>0</td>\n",
       "      <td>0</td>\n",
       "      <td>0</td>\n",
       "      <td>0</td>\n",
       "      <td>1</td>\n",
       "      <td>0</td>\n",
       "      <td>0</td>\n",
       "      <td>0</td>\n",
       "      <td>24.689347</td>\n",
       "    </tr>\n",
       "    <tr>\n",
       "      <th>70</th>\n",
       "      <td>4</td>\n",
       "      <td>0</td>\n",
       "      <td>0</td>\n",
       "      <td>0</td>\n",
       "      <td>1</td>\n",
       "      <td>0</td>\n",
       "      <td>0</td>\n",
       "      <td>0</td>\n",
       "      <td>1</td>\n",
       "      <td>1</td>\n",
       "      <td>0</td>\n",
       "      <td>0</td>\n",
       "      <td>4.519874</td>\n",
       "    </tr>\n",
       "    <tr>\n",
       "      <th>85</th>\n",
       "      <td>1</td>\n",
       "      <td>0</td>\n",
       "      <td>0</td>\n",
       "      <td>0</td>\n",
       "      <td>0</td>\n",
       "      <td>1</td>\n",
       "      <td>0</td>\n",
       "      <td>0</td>\n",
       "      <td>1</td>\n",
       "      <td>1</td>\n",
       "      <td>0</td>\n",
       "      <td>0</td>\n",
       "      <td>-8.701097</td>\n",
       "    </tr>\n",
       "    <tr>\n",
       "      <th>59</th>\n",
       "      <td>6</td>\n",
       "      <td>0</td>\n",
       "      <td>0</td>\n",
       "      <td>1</td>\n",
       "      <td>0</td>\n",
       "      <td>0</td>\n",
       "      <td>1</td>\n",
       "      <td>0</td>\n",
       "      <td>0</td>\n",
       "      <td>1</td>\n",
       "      <td>0</td>\n",
       "      <td>0</td>\n",
       "      <td>7.388398</td>\n",
       "    </tr>\n",
       "    <tr>\n",
       "      <th>41</th>\n",
       "      <td>2</td>\n",
       "      <td>0</td>\n",
       "      <td>1</td>\n",
       "      <td>0</td>\n",
       "      <td>0</td>\n",
       "      <td>0</td>\n",
       "      <td>0</td>\n",
       "      <td>0</td>\n",
       "      <td>1</td>\n",
       "      <td>0</td>\n",
       "      <td>0</td>\n",
       "      <td>1</td>\n",
       "      <td>-0.422355</td>\n",
       "    </tr>\n",
       "    <tr>\n",
       "      <th>45</th>\n",
       "      <td>4</td>\n",
       "      <td>0</td>\n",
       "      <td>1</td>\n",
       "      <td>0</td>\n",
       "      <td>0</td>\n",
       "      <td>0</td>\n",
       "      <td>1</td>\n",
       "      <td>0</td>\n",
       "      <td>0</td>\n",
       "      <td>0</td>\n",
       "      <td>0</td>\n",
       "      <td>1</td>\n",
       "      <td>-1.130311</td>\n",
       "    </tr>\n",
       "    <tr>\n",
       "      <th>38</th>\n",
       "      <td>3</td>\n",
       "      <td>0</td>\n",
       "      <td>1</td>\n",
       "      <td>0</td>\n",
       "      <td>0</td>\n",
       "      <td>0</td>\n",
       "      <td>0</td>\n",
       "      <td>0</td>\n",
       "      <td>1</td>\n",
       "      <td>0</td>\n",
       "      <td>0</td>\n",
       "      <td>0</td>\n",
       "      <td>18.294780</td>\n",
       "    </tr>\n",
       "    <tr>\n",
       "      <th>39</th>\n",
       "      <td>6</td>\n",
       "      <td>0</td>\n",
       "      <td>1</td>\n",
       "      <td>0</td>\n",
       "      <td>0</td>\n",
       "      <td>0</td>\n",
       "      <td>0</td>\n",
       "      <td>0</td>\n",
       "      <td>1</td>\n",
       "      <td>1</td>\n",
       "      <td>0</td>\n",
       "      <td>0</td>\n",
       "      <td>8.052075</td>\n",
       "    </tr>\n",
       "    <tr>\n",
       "      <th>31</th>\n",
       "      <td>0</td>\n",
       "      <td>0</td>\n",
       "      <td>1</td>\n",
       "      <td>0</td>\n",
       "      <td>0</td>\n",
       "      <td>0</td>\n",
       "      <td>0</td>\n",
       "      <td>0</td>\n",
       "      <td>0</td>\n",
       "      <td>1</td>\n",
       "      <td>0</td>\n",
       "      <td>0</td>\n",
       "      <td>17.328414</td>\n",
       "    </tr>\n",
       "    <tr>\n",
       "      <th>67</th>\n",
       "      <td>3</td>\n",
       "      <td>0</td>\n",
       "      <td>0</td>\n",
       "      <td>0</td>\n",
       "      <td>1</td>\n",
       "      <td>0</td>\n",
       "      <td>0</td>\n",
       "      <td>1</td>\n",
       "      <td>0</td>\n",
       "      <td>1</td>\n",
       "      <td>0</td>\n",
       "      <td>0</td>\n",
       "      <td>14.761680</td>\n",
       "    </tr>\n",
       "    <tr>\n",
       "      <th>27</th>\n",
       "      <td>2</td>\n",
       "      <td>1</td>\n",
       "      <td>0</td>\n",
       "      <td>0</td>\n",
       "      <td>0</td>\n",
       "      <td>0</td>\n",
       "      <td>1</td>\n",
       "      <td>0</td>\n",
       "      <td>0</td>\n",
       "      <td>0</td>\n",
       "      <td>0</td>\n",
       "      <td>0</td>\n",
       "      <td>17.426157</td>\n",
       "    </tr>\n",
       "    <tr>\n",
       "      <th>87</th>\n",
       "      <td>1</td>\n",
       "      <td>0</td>\n",
       "      <td>0</td>\n",
       "      <td>0</td>\n",
       "      <td>0</td>\n",
       "      <td>1</td>\n",
       "      <td>1</td>\n",
       "      <td>0</td>\n",
       "      <td>0</td>\n",
       "      <td>1</td>\n",
       "      <td>0</td>\n",
       "      <td>0</td>\n",
       "      <td>-10.996626</td>\n",
       "    </tr>\n",
       "    <tr>\n",
       "      <th>49</th>\n",
       "      <td>4</td>\n",
       "      <td>0</td>\n",
       "      <td>0</td>\n",
       "      <td>1</td>\n",
       "      <td>0</td>\n",
       "      <td>0</td>\n",
       "      <td>0</td>\n",
       "      <td>0</td>\n",
       "      <td>0</td>\n",
       "      <td>0</td>\n",
       "      <td>0</td>\n",
       "      <td>1</td>\n",
       "      <td>16.836124</td>\n",
       "    </tr>\n",
       "    <tr>\n",
       "      <th>10</th>\n",
       "      <td>0</td>\n",
       "      <td>0</td>\n",
       "      <td>0</td>\n",
       "      <td>0</td>\n",
       "      <td>0</td>\n",
       "      <td>0</td>\n",
       "      <td>0</td>\n",
       "      <td>0</td>\n",
       "      <td>1</td>\n",
       "      <td>0</td>\n",
       "      <td>0</td>\n",
       "      <td>1</td>\n",
       "      <td>-4.692328</td>\n",
       "    </tr>\n",
       "    <tr>\n",
       "      <th>2</th>\n",
       "      <td>0</td>\n",
       "      <td>0</td>\n",
       "      <td>0</td>\n",
       "      <td>0</td>\n",
       "      <td>0</td>\n",
       "      <td>0</td>\n",
       "      <td>0</td>\n",
       "      <td>0</td>\n",
       "      <td>0</td>\n",
       "      <td>0</td>\n",
       "      <td>1</td>\n",
       "      <td>0</td>\n",
       "      <td>11.574592</td>\n",
       "    </tr>\n",
       "    <tr>\n",
       "      <th>36</th>\n",
       "      <td>5</td>\n",
       "      <td>0</td>\n",
       "      <td>1</td>\n",
       "      <td>0</td>\n",
       "      <td>0</td>\n",
       "      <td>0</td>\n",
       "      <td>0</td>\n",
       "      <td>1</td>\n",
       "      <td>0</td>\n",
       "      <td>0</td>\n",
       "      <td>1</td>\n",
       "      <td>0</td>\n",
       "      <td>15.222461</td>\n",
       "    </tr>\n",
       "    <tr>\n",
       "      <th>68</th>\n",
       "      <td>5</td>\n",
       "      <td>0</td>\n",
       "      <td>0</td>\n",
       "      <td>0</td>\n",
       "      <td>1</td>\n",
       "      <td>0</td>\n",
       "      <td>0</td>\n",
       "      <td>1</td>\n",
       "      <td>0</td>\n",
       "      <td>0</td>\n",
       "      <td>1</td>\n",
       "      <td>0</td>\n",
       "      <td>13.277831</td>\n",
       "    </tr>\n",
       "    <tr>\n",
       "      <th>46</th>\n",
       "      <td>2</td>\n",
       "      <td>0</td>\n",
       "      <td>0</td>\n",
       "      <td>1</td>\n",
       "      <td>0</td>\n",
       "      <td>0</td>\n",
       "      <td>0</td>\n",
       "      <td>0</td>\n",
       "      <td>0</td>\n",
       "      <td>0</td>\n",
       "      <td>0</td>\n",
       "      <td>0</td>\n",
       "      <td>33.171900</td>\n",
       "    </tr>\n",
       "    <tr>\n",
       "      <th>19</th>\n",
       "      <td>0</td>\n",
       "      <td>1</td>\n",
       "      <td>0</td>\n",
       "      <td>0</td>\n",
       "      <td>0</td>\n",
       "      <td>0</td>\n",
       "      <td>0</td>\n",
       "      <td>1</td>\n",
       "      <td>0</td>\n",
       "      <td>0</td>\n",
       "      <td>0</td>\n",
       "      <td>0</td>\n",
       "      <td>29.169705</td>\n",
       "    </tr>\n",
       "  </tbody>\n",
       "</table>\n",
       "</div>"
      ],
      "text/plain": [
       "    ncases  OHE_35-44  OHE_45-54  OHE_55-64  OHE_65-74  OHE_75+  OHE_120+  \\\n",
       "60       2          0          0          1          0        0         1   \n",
       "69       6          0          0          0          1        0         0   \n",
       "53       3          0          0          1          0        0         0   \n",
       "54       9          0          0          1          0        0         0   \n",
       "70       4          0          0          0          1        0         0   \n",
       "85       1          0          0          0          0        1         0   \n",
       "59       6          0          0          1          0        0         1   \n",
       "41       2          0          1          0          0        0         0   \n",
       "45       4          0          1          0          0        0         1   \n",
       "38       3          0          1          0          0        0         0   \n",
       "39       6          0          1          0          0        0         0   \n",
       "31       0          0          1          0          0        0         0   \n",
       "67       3          0          0          0          1        0         0   \n",
       "27       2          1          0          0          0        0         1   \n",
       "87       1          0          0          0          0        1         1   \n",
       "49       4          0          0          1          0        0         0   \n",
       "10       0          0          0          0          0        0         0   \n",
       "2        0          0          0          0          0        0         0   \n",
       "36       5          0          1          0          0        0         0   \n",
       "68       5          0          0          0          1        0         0   \n",
       "46       2          0          0          1          0        0         0   \n",
       "19       0          1          0          0          0        0         0   \n",
       "\n",
       "    OHE_40-79  OHE_80-119  OHE_10-19  OHE_20-29  OHE_30+      lasso  \n",
       "60          0           0          0          1        0   1.141834  \n",
       "69          0           1          0          0        0  18.731508  \n",
       "53          1           0          0          0        1  13.038875  \n",
       "54          0           1          0          0        0  24.689347  \n",
       "70          0           1          1          0        0   4.519874  \n",
       "85          0           1          1          0        0  -8.701097  \n",
       "59          0           0          1          0        0   7.388398  \n",
       "41          0           1          0          0        1  -0.422355  \n",
       "45          0           0          0          0        1  -1.130311  \n",
       "38          0           1          0          0        0  18.294780  \n",
       "39          0           1          1          0        0   8.052075  \n",
       "31          0           0          1          0        0  17.328414  \n",
       "67          1           0          1          0        0  14.761680  \n",
       "27          0           0          0          0        0  17.426157  \n",
       "87          0           0          1          0        0 -10.996626  \n",
       "49          0           0          0          0        1  16.836124  \n",
       "10          0           1          0          0        1  -4.692328  \n",
       "2           0           0          0          1        0  11.574592  \n",
       "36          1           0          0          1        0  15.222461  \n",
       "68          1           0          0          1        0  13.277831  \n",
       "46          0           0          0          0        0  33.171900  \n",
       "19          1           0          0          0        0  29.169705  "
      ]
     },
     "execution_count": 38,
     "metadata": {},
     "output_type": "execute_result"
    }
   ],
   "source": [
    "X_test"
   ]
  },
  {
   "cell_type": "code",
   "execution_count": 39,
   "id": "39277c29",
   "metadata": {},
   "outputs": [
    {
     "name": "stdout",
     "output_type": "stream",
     "text": [
      "          n       r          CI95%     p-val\n",
      "pearson  22  0.2282  [-0.21, 0.59]  0.307049 \n",
      "\n",
      "          n         r          CI95%     p-val\n",
      "pearson  22  0.346757  [-0.09, 0.67]  0.113876 \n",
      "\n",
      "          n         r          CI95%     p-val\n",
      "pearson  22 -0.069676  [-0.48, 0.36]  0.758001 \n",
      "\n",
      "          n         r          CI95%     p-val\n",
      "pearson  22  0.280233  [-0.16, 0.63]  0.206525 \n",
      "\n",
      "          n         r          CI95%     p-val\n",
      "pearson  22  0.081947  [-0.35, 0.49]  0.716949 \n",
      "\n",
      "          n         r         CI95%     p-val\n",
      "pearson  22 -0.576543  [-0.8, -0.2]  0.004974 \n",
      "\n",
      "          n         r          CI95%     p-val\n",
      "pearson  22 -0.386147  [-0.69, 0.04]  0.075889 \n",
      "\n",
      "          n         r          CI95%     p-val\n",
      "pearson  22  0.298323  [-0.14, 0.64]  0.177489 \n",
      "\n",
      "          n         r          CI95%     p-val\n",
      "pearson  22 -0.219084  [-0.59, 0.22]  0.327293 \n",
      "\n",
      "          n         r          CI95%     p-val\n",
      "pearson  22 -0.374724  [-0.69, 0.06]  0.085747 \n",
      "\n",
      "          n         r         CI95%     p-val\n",
      "pearson  22 -0.022632  [-0.44, 0.4]  0.920368 \n",
      "\n",
      "          n         r          CI95%     p-val\n",
      "pearson  22 -0.292511  [-0.64, 0.15]  0.186493 \n",
      "\n"
     ]
    }
   ],
   "source": [
    "for i in names:\n",
    "    print(pg.partial_corr(data=X_test, x=\"lasso\", y=i),\"\\n\")"
   ]
  },
  {
   "cell_type": "markdown",
   "id": "82d04afa",
   "metadata": {},
   "source": [
    "Высокую корреляцию имеет только признак возраст 35-45."
   ]
  },
  {
   "cell_type": "code",
   "execution_count": 40,
   "id": "d5a6ab56",
   "metadata": {},
   "outputs": [],
   "source": [
    "X_test =X_test.drop(columns = 'lasso')"
   ]
  },
  {
   "cell_type": "markdown",
   "id": "1f60c713",
   "metadata": {},
   "source": [
    "# Ridge"
   ]
  },
  {
   "cell_type": "markdown",
   "id": "00cacb60",
   "metadata": {},
   "source": [
    "Лассо-регрессия накладывает штраф на l2-норму бета-вектора. l1-норма вектора — это корень суммы квадратов значений в этом векторе. Это заставляет ridge-регрессию обнулять некоторые коэффициенты в бета-векторе. Благодаря этому можно избежать аномалий."
   ]
  },
  {
   "cell_type": "code",
   "execution_count": 41,
   "id": "2d6a05d1",
   "metadata": {},
   "outputs": [
    {
     "data": {
      "text/plain": [
       "RidgeCV(alphas=array([8.37757662, 5.43261321, 5.39613252, 5.93954049, 3.46776106,\n",
       "       6.43748466, 2.8312133 , 4.53534706, 7.78959494, 2.74271545,\n",
       "       0.33006081, 9.67826775, 9.91055467, 6.48225907, 2.87260564,\n",
       "       7.36029669, 7.92629905, 5.64638571, 5.23605067, 0.63829062,\n",
       "       1.41803494, 7.25455463, 1.19701029, 3.16368228, 6.8166391 ,\n",
       "       4.59774983, 3.87139341, 7.10427836, 2.43702252, 4.08645056,\n",
       "       6.05666787, 6.15633646, 2.025257  , 7.84294366, 3.86127717,\n",
       "       6.67149977, 8.8581059 , 3.13235061, 7.25719056, 3.29589987,\n",
       "       3.48682074, 9.60076071, 9.63341854, 1.53909175, 0.50498717,\n",
       "       9.19716345, 7.63701237, 9.07354626, 0.50534902, 6.07554239]),\n",
       "        cv=10, normalize=True)"
      ]
     },
     "execution_count": 41,
     "metadata": {},
     "output_type": "execute_result"
    }
   ],
   "source": [
    "from sklearn.linear_model import Ridge, RidgeCV\n",
    "\n",
    "alphas = np.random.uniform(0, 10, 50)\n",
    "ridge_cv = RidgeCV(alphas = alphas, cv = 10, normalize = True)\n",
    "ridge_cv.fit(X_train, y_train)"
   ]
  },
  {
   "cell_type": "markdown",
   "id": "4a059813",
   "metadata": {},
   "source": [
    "Находим искомую альфа."
   ]
  },
  {
   "cell_type": "code",
   "execution_count": 42,
   "id": "237b8fb6",
   "metadata": {},
   "outputs": [
    {
     "data": {
      "text/plain": [
       "0.3300608105447467"
      ]
     },
     "execution_count": 42,
     "metadata": {},
     "output_type": "execute_result"
    }
   ],
   "source": [
    "alpha = ridge_cv.alpha_\n",
    "alpha"
   ]
  },
  {
   "cell_type": "code",
   "execution_count": 43,
   "id": "898d8fc1",
   "metadata": {},
   "outputs": [
    {
     "data": {
      "text/plain": [
       "Ridge(alpha=0.3300608105447467)"
      ]
     },
     "execution_count": 43,
     "metadata": {},
     "output_type": "execute_result"
    }
   ],
   "source": [
    "ridge = Ridge(alpha = ridge_cv.alpha_)\n",
    "ridge.fit(X_train, y_train)"
   ]
  },
  {
   "cell_type": "code",
   "execution_count": 44,
   "id": "8ff89d3c",
   "metadata": {},
   "outputs": [],
   "source": [
    "ridge_pred = ridge.predict(X_test)"
   ]
  },
  {
   "cell_type": "code",
   "execution_count": 45,
   "id": "f6f4ea54",
   "metadata": {},
   "outputs": [
    {
     "name": "stdout",
     "output_type": "stream",
     "text": [
      "explained_variance:  0.5668\n",
      "r2:  0.5648\n",
      "MAE:  6.1406\n",
      "MSE:  54.8185\n",
      "RMSE:  7.4039\n"
     ]
    }
   ],
   "source": [
    "regression_results(y_test,ridge_pred)"
   ]
  },
  {
   "cell_type": "markdown",
   "id": "5ef8780d",
   "metadata": {},
   "source": [
    "Точность на обучающей выборке."
   ]
  },
  {
   "cell_type": "code",
   "execution_count": 46,
   "id": "a5e638ba",
   "metadata": {},
   "outputs": [
    {
     "data": {
      "text/plain": [
       "0.7172359707319989"
      ]
     },
     "execution_count": 46,
     "metadata": {},
     "output_type": "execute_result"
    }
   ],
   "source": [
    "ridge.score(X_train, y_train)"
   ]
  },
  {
   "cell_type": "markdown",
   "id": "fb90a228",
   "metadata": {},
   "source": [
    "Точность на тестовой выборке."
   ]
  },
  {
   "cell_type": "code",
   "execution_count": 47,
   "id": "bb5df00b",
   "metadata": {},
   "outputs": [
    {
     "data": {
      "text/plain": [
       "0.5648472903673779"
      ]
     },
     "execution_count": 47,
     "metadata": {},
     "output_type": "execute_result"
    }
   ],
   "source": [
    "ridge.score(X_test, y_test)"
   ]
  },
  {
   "cell_type": "code",
   "execution_count": 48,
   "id": "afcafc8f",
   "metadata": {},
   "outputs": [],
   "source": [
    "def ridge(alphas):\n",
    "    df = pd.DataFrame()\n",
    "    df['Feature Name'] = names\n",
    "    for alpha in alphas:\n",
    "        ridge = Ridge(alpha=alpha)\n",
    "        ridge.fit(X, Y)\n",
    "        column_name = 'Alpha = %f' % alpha\n",
    "        df[column_name] = ridge.coef_\n",
    "    return df"
   ]
  },
  {
   "cell_type": "code",
   "execution_count": 49,
   "id": "fde75ea8",
   "metadata": {},
   "outputs": [
    {
     "data": {
      "text/html": [
       "<div>\n",
       "<style scoped>\n",
       "    .dataframe tbody tr th:only-of-type {\n",
       "        vertical-align: middle;\n",
       "    }\n",
       "\n",
       "    .dataframe tbody tr th {\n",
       "        vertical-align: top;\n",
       "    }\n",
       "\n",
       "    .dataframe thead th {\n",
       "        text-align: right;\n",
       "    }\n",
       "</style>\n",
       "<table border=\"1\" class=\"dataframe\">\n",
       "  <thead>\n",
       "    <tr style=\"text-align: right;\">\n",
       "      <th></th>\n",
       "      <th>Feature Name</th>\n",
       "      <th>Alpha = 0.330061</th>\n",
       "    </tr>\n",
       "  </thead>\n",
       "  <tbody>\n",
       "    <tr>\n",
       "      <th>0</th>\n",
       "      <td>ncases</td>\n",
       "      <td>0.580953</td>\n",
       "    </tr>\n",
       "    <tr>\n",
       "      <th>1</th>\n",
       "      <td>OHE_35-44</td>\n",
       "      <td>4.618678</td>\n",
       "    </tr>\n",
       "    <tr>\n",
       "      <th>2</th>\n",
       "      <td>OHE_45-54</td>\n",
       "      <td>4.310994</td>\n",
       "    </tr>\n",
       "    <tr>\n",
       "      <th>3</th>\n",
       "      <td>OHE_55-64</td>\n",
       "      <td>5.019590</td>\n",
       "    </tr>\n",
       "    <tr>\n",
       "      <th>4</th>\n",
       "      <td>OHE_65-74</td>\n",
       "      <td>1.220615</td>\n",
       "    </tr>\n",
       "    <tr>\n",
       "      <th>5</th>\n",
       "      <td>OHE_75+</td>\n",
       "      <td>-7.685363</td>\n",
       "    </tr>\n",
       "    <tr>\n",
       "      <th>6</th>\n",
       "      <td>OHE_120+</td>\n",
       "      <td>-15.613110</td>\n",
       "    </tr>\n",
       "    <tr>\n",
       "      <th>7</th>\n",
       "      <td>OHE_40-79</td>\n",
       "      <td>-2.981786</td>\n",
       "    </tr>\n",
       "    <tr>\n",
       "      <th>8</th>\n",
       "      <td>OHE_80-119</td>\n",
       "      <td>-12.569096</td>\n",
       "    </tr>\n",
       "    <tr>\n",
       "      <th>9</th>\n",
       "      <td>OHE_10-19</td>\n",
       "      <td>-10.809400</td>\n",
       "    </tr>\n",
       "    <tr>\n",
       "      <th>10</th>\n",
       "      <td>OHE_20-29</td>\n",
       "      <td>-15.373930</td>\n",
       "    </tr>\n",
       "    <tr>\n",
       "      <th>11</th>\n",
       "      <td>OHE_30+</td>\n",
       "      <td>-17.407335</td>\n",
       "    </tr>\n",
       "  </tbody>\n",
       "</table>\n",
       "</div>"
      ],
      "text/plain": [
       "   Feature Name  Alpha = 0.330061\n",
       "0        ncases          0.580953\n",
       "1     OHE_35-44          4.618678\n",
       "2     OHE_45-54          4.310994\n",
       "3     OHE_55-64          5.019590\n",
       "4     OHE_65-74          1.220615\n",
       "5       OHE_75+         -7.685363\n",
       "6      OHE_120+        -15.613110\n",
       "7     OHE_40-79         -2.981786\n",
       "8    OHE_80-119        -12.569096\n",
       "9     OHE_10-19        -10.809400\n",
       "10    OHE_20-29        -15.373930\n",
       "11      OHE_30+        -17.407335"
      ]
     },
     "execution_count": 49,
     "metadata": {},
     "output_type": "execute_result"
    }
   ],
   "source": [
    "ridge([alpha])"
   ]
  },
  {
   "cell_type": "markdown",
   "id": "cf44f69c",
   "metadata": {},
   "source": [
    "## Корреляции между целевым значением и признаками"
   ]
  },
  {
   "cell_type": "code",
   "execution_count": 50,
   "id": "aace72bb",
   "metadata": {},
   "outputs": [],
   "source": [
    "X_test[\"ridge\"] = ridge_pred"
   ]
  },
  {
   "cell_type": "code",
   "execution_count": 51,
   "id": "ff5fb91c",
   "metadata": {},
   "outputs": [
    {
     "data": {
      "text/html": [
       "<div>\n",
       "<style scoped>\n",
       "    .dataframe tbody tr th:only-of-type {\n",
       "        vertical-align: middle;\n",
       "    }\n",
       "\n",
       "    .dataframe tbody tr th {\n",
       "        vertical-align: top;\n",
       "    }\n",
       "\n",
       "    .dataframe thead th {\n",
       "        text-align: right;\n",
       "    }\n",
       "</style>\n",
       "<table border=\"1\" class=\"dataframe\">\n",
       "  <thead>\n",
       "    <tr style=\"text-align: right;\">\n",
       "      <th></th>\n",
       "      <th>ncases</th>\n",
       "      <th>OHE_35-44</th>\n",
       "      <th>OHE_45-54</th>\n",
       "      <th>OHE_55-64</th>\n",
       "      <th>OHE_65-74</th>\n",
       "      <th>OHE_75+</th>\n",
       "      <th>OHE_120+</th>\n",
       "      <th>OHE_40-79</th>\n",
       "      <th>OHE_80-119</th>\n",
       "      <th>OHE_10-19</th>\n",
       "      <th>OHE_20-29</th>\n",
       "      <th>OHE_30+</th>\n",
       "      <th>ridge</th>\n",
       "    </tr>\n",
       "  </thead>\n",
       "  <tbody>\n",
       "    <tr>\n",
       "      <th>60</th>\n",
       "      <td>2</td>\n",
       "      <td>0</td>\n",
       "      <td>0</td>\n",
       "      <td>1</td>\n",
       "      <td>0</td>\n",
       "      <td>0</td>\n",
       "      <td>1</td>\n",
       "      <td>0</td>\n",
       "      <td>0</td>\n",
       "      <td>0</td>\n",
       "      <td>1</td>\n",
       "      <td>0</td>\n",
       "      <td>1.485398</td>\n",
       "    </tr>\n",
       "    <tr>\n",
       "      <th>69</th>\n",
       "      <td>6</td>\n",
       "      <td>0</td>\n",
       "      <td>0</td>\n",
       "      <td>0</td>\n",
       "      <td>1</td>\n",
       "      <td>0</td>\n",
       "      <td>0</td>\n",
       "      <td>0</td>\n",
       "      <td>1</td>\n",
       "      <td>0</td>\n",
       "      <td>0</td>\n",
       "      <td>0</td>\n",
       "      <td>18.581121</td>\n",
       "    </tr>\n",
       "    <tr>\n",
       "      <th>53</th>\n",
       "      <td>3</td>\n",
       "      <td>0</td>\n",
       "      <td>0</td>\n",
       "      <td>1</td>\n",
       "      <td>0</td>\n",
       "      <td>0</td>\n",
       "      <td>0</td>\n",
       "      <td>1</td>\n",
       "      <td>0</td>\n",
       "      <td>0</td>\n",
       "      <td>0</td>\n",
       "      <td>1</td>\n",
       "      <td>13.155386</td>\n",
       "    </tr>\n",
       "    <tr>\n",
       "      <th>54</th>\n",
       "      <td>9</td>\n",
       "      <td>0</td>\n",
       "      <td>0</td>\n",
       "      <td>1</td>\n",
       "      <td>0</td>\n",
       "      <td>0</td>\n",
       "      <td>0</td>\n",
       "      <td>0</td>\n",
       "      <td>1</td>\n",
       "      <td>0</td>\n",
       "      <td>0</td>\n",
       "      <td>0</td>\n",
       "      <td>24.431868</td>\n",
       "    </tr>\n",
       "    <tr>\n",
       "      <th>70</th>\n",
       "      <td>4</td>\n",
       "      <td>0</td>\n",
       "      <td>0</td>\n",
       "      <td>0</td>\n",
       "      <td>1</td>\n",
       "      <td>0</td>\n",
       "      <td>0</td>\n",
       "      <td>0</td>\n",
       "      <td>1</td>\n",
       "      <td>1</td>\n",
       "      <td>0</td>\n",
       "      <td>0</td>\n",
       "      <td>4.991122</td>\n",
       "    </tr>\n",
       "    <tr>\n",
       "      <th>85</th>\n",
       "      <td>1</td>\n",
       "      <td>0</td>\n",
       "      <td>0</td>\n",
       "      <td>0</td>\n",
       "      <td>0</td>\n",
       "      <td>1</td>\n",
       "      <td>0</td>\n",
       "      <td>0</td>\n",
       "      <td>1</td>\n",
       "      <td>1</td>\n",
       "      <td>0</td>\n",
       "      <td>0</td>\n",
       "      <td>-8.054824</td>\n",
       "    </tr>\n",
       "    <tr>\n",
       "      <th>59</th>\n",
       "      <td>6</td>\n",
       "      <td>0</td>\n",
       "      <td>0</td>\n",
       "      <td>1</td>\n",
       "      <td>0</td>\n",
       "      <td>0</td>\n",
       "      <td>1</td>\n",
       "      <td>0</td>\n",
       "      <td>0</td>\n",
       "      <td>1</td>\n",
       "      <td>0</td>\n",
       "      <td>0</td>\n",
       "      <td>7.796033</td>\n",
       "    </tr>\n",
       "    <tr>\n",
       "      <th>41</th>\n",
       "      <td>2</td>\n",
       "      <td>0</td>\n",
       "      <td>1</td>\n",
       "      <td>0</td>\n",
       "      <td>0</td>\n",
       "      <td>0</td>\n",
       "      <td>0</td>\n",
       "      <td>0</td>\n",
       "      <td>1</td>\n",
       "      <td>0</td>\n",
       "      <td>0</td>\n",
       "      <td>1</td>\n",
       "      <td>0.167821</td>\n",
       "    </tr>\n",
       "    <tr>\n",
       "      <th>45</th>\n",
       "      <td>4</td>\n",
       "      <td>0</td>\n",
       "      <td>1</td>\n",
       "      <td>0</td>\n",
       "      <td>0</td>\n",
       "      <td>0</td>\n",
       "      <td>1</td>\n",
       "      <td>0</td>\n",
       "      <td>0</td>\n",
       "      <td>0</td>\n",
       "      <td>0</td>\n",
       "      <td>1</td>\n",
       "      <td>-0.428983</td>\n",
       "    </tr>\n",
       "    <tr>\n",
       "      <th>38</th>\n",
       "      <td>3</td>\n",
       "      <td>0</td>\n",
       "      <td>1</td>\n",
       "      <td>0</td>\n",
       "      <td>0</td>\n",
       "      <td>0</td>\n",
       "      <td>0</td>\n",
       "      <td>0</td>\n",
       "      <td>1</td>\n",
       "      <td>0</td>\n",
       "      <td>0</td>\n",
       "      <td>0</td>\n",
       "      <td>18.108021</td>\n",
       "    </tr>\n",
       "    <tr>\n",
       "      <th>39</th>\n",
       "      <td>6</td>\n",
       "      <td>0</td>\n",
       "      <td>1</td>\n",
       "      <td>0</td>\n",
       "      <td>0</td>\n",
       "      <td>0</td>\n",
       "      <td>0</td>\n",
       "      <td>0</td>\n",
       "      <td>1</td>\n",
       "      <td>1</td>\n",
       "      <td>0</td>\n",
       "      <td>0</td>\n",
       "      <td>8.599741</td>\n",
       "    </tr>\n",
       "    <tr>\n",
       "      <th>31</th>\n",
       "      <td>0</td>\n",
       "      <td>0</td>\n",
       "      <td>1</td>\n",
       "      <td>0</td>\n",
       "      <td>0</td>\n",
       "      <td>0</td>\n",
       "      <td>0</td>\n",
       "      <td>0</td>\n",
       "      <td>0</td>\n",
       "      <td>1</td>\n",
       "      <td>0</td>\n",
       "      <td>0</td>\n",
       "      <td>17.294547</td>\n",
       "    </tr>\n",
       "    <tr>\n",
       "      <th>67</th>\n",
       "      <td>3</td>\n",
       "      <td>0</td>\n",
       "      <td>0</td>\n",
       "      <td>0</td>\n",
       "      <td>1</td>\n",
       "      <td>0</td>\n",
       "      <td>0</td>\n",
       "      <td>1</td>\n",
       "      <td>0</td>\n",
       "      <td>1</td>\n",
       "      <td>0</td>\n",
       "      <td>0</td>\n",
       "      <td>14.920215</td>\n",
       "    </tr>\n",
       "    <tr>\n",
       "      <th>27</th>\n",
       "      <td>2</td>\n",
       "      <td>1</td>\n",
       "      <td>0</td>\n",
       "      <td>0</td>\n",
       "      <td>0</td>\n",
       "      <td>0</td>\n",
       "      <td>1</td>\n",
       "      <td>0</td>\n",
       "      <td>0</td>\n",
       "      <td>0</td>\n",
       "      <td>0</td>\n",
       "      <td>0</td>\n",
       "      <td>17.144114</td>\n",
       "    </tr>\n",
       "    <tr>\n",
       "      <th>87</th>\n",
       "      <td>1</td>\n",
       "      <td>0</td>\n",
       "      <td>0</td>\n",
       "      <td>0</td>\n",
       "      <td>0</td>\n",
       "      <td>1</td>\n",
       "      <td>1</td>\n",
       "      <td>0</td>\n",
       "      <td>0</td>\n",
       "      <td>1</td>\n",
       "      <td>0</td>\n",
       "      <td>0</td>\n",
       "      <td>-10.284316</td>\n",
       "    </tr>\n",
       "    <tr>\n",
       "      <th>49</th>\n",
       "      <td>4</td>\n",
       "      <td>0</td>\n",
       "      <td>0</td>\n",
       "      <td>1</td>\n",
       "      <td>0</td>\n",
       "      <td>0</td>\n",
       "      <td>0</td>\n",
       "      <td>0</td>\n",
       "      <td>0</td>\n",
       "      <td>0</td>\n",
       "      <td>0</td>\n",
       "      <td>1</td>\n",
       "      <td>16.819162</td>\n",
       "    </tr>\n",
       "    <tr>\n",
       "      <th>10</th>\n",
       "      <td>0</td>\n",
       "      <td>0</td>\n",
       "      <td>0</td>\n",
       "      <td>0</td>\n",
       "      <td>0</td>\n",
       "      <td>0</td>\n",
       "      <td>0</td>\n",
       "      <td>0</td>\n",
       "      <td>1</td>\n",
       "      <td>0</td>\n",
       "      <td>0</td>\n",
       "      <td>1</td>\n",
       "      <td>-4.581789</td>\n",
       "    </tr>\n",
       "    <tr>\n",
       "      <th>2</th>\n",
       "      <td>0</td>\n",
       "      <td>0</td>\n",
       "      <td>0</td>\n",
       "      <td>0</td>\n",
       "      <td>0</td>\n",
       "      <td>0</td>\n",
       "      <td>0</td>\n",
       "      <td>0</td>\n",
       "      <td>0</td>\n",
       "      <td>0</td>\n",
       "      <td>1</td>\n",
       "      <td>0</td>\n",
       "      <td>11.132366</td>\n",
       "    </tr>\n",
       "    <tr>\n",
       "      <th>36</th>\n",
       "      <td>5</td>\n",
       "      <td>0</td>\n",
       "      <td>1</td>\n",
       "      <td>0</td>\n",
       "      <td>0</td>\n",
       "      <td>0</td>\n",
       "      <td>0</td>\n",
       "      <td>1</td>\n",
       "      <td>0</td>\n",
       "      <td>0</td>\n",
       "      <td>1</td>\n",
       "      <td>0</td>\n",
       "      <td>15.483574</td>\n",
       "    </tr>\n",
       "    <tr>\n",
       "      <th>68</th>\n",
       "      <td>5</td>\n",
       "      <td>0</td>\n",
       "      <td>0</td>\n",
       "      <td>0</td>\n",
       "      <td>1</td>\n",
       "      <td>0</td>\n",
       "      <td>0</td>\n",
       "      <td>1</td>\n",
       "      <td>0</td>\n",
       "      <td>0</td>\n",
       "      <td>1</td>\n",
       "      <td>0</td>\n",
       "      <td>13.507643</td>\n",
       "    </tr>\n",
       "    <tr>\n",
       "      <th>46</th>\n",
       "      <td>2</td>\n",
       "      <td>0</td>\n",
       "      <td>0</td>\n",
       "      <td>1</td>\n",
       "      <td>0</td>\n",
       "      <td>0</td>\n",
       "      <td>0</td>\n",
       "      <td>0</td>\n",
       "      <td>0</td>\n",
       "      <td>0</td>\n",
       "      <td>0</td>\n",
       "      <td>0</td>\n",
       "      <td>32.310330</td>\n",
       "    </tr>\n",
       "    <tr>\n",
       "      <th>19</th>\n",
       "      <td>0</td>\n",
       "      <td>1</td>\n",
       "      <td>0</td>\n",
       "      <td>0</td>\n",
       "      <td>0</td>\n",
       "      <td>0</td>\n",
       "      <td>0</td>\n",
       "      <td>1</td>\n",
       "      <td>0</td>\n",
       "      <td>0</td>\n",
       "      <td>0</td>\n",
       "      <td>0</td>\n",
       "      <td>28.486355</td>\n",
       "    </tr>\n",
       "  </tbody>\n",
       "</table>\n",
       "</div>"
      ],
      "text/plain": [
       "    ncases  OHE_35-44  OHE_45-54  OHE_55-64  OHE_65-74  OHE_75+  OHE_120+  \\\n",
       "60       2          0          0          1          0        0         1   \n",
       "69       6          0          0          0          1        0         0   \n",
       "53       3          0          0          1          0        0         0   \n",
       "54       9          0          0          1          0        0         0   \n",
       "70       4          0          0          0          1        0         0   \n",
       "85       1          0          0          0          0        1         0   \n",
       "59       6          0          0          1          0        0         1   \n",
       "41       2          0          1          0          0        0         0   \n",
       "45       4          0          1          0          0        0         1   \n",
       "38       3          0          1          0          0        0         0   \n",
       "39       6          0          1          0          0        0         0   \n",
       "31       0          0          1          0          0        0         0   \n",
       "67       3          0          0          0          1        0         0   \n",
       "27       2          1          0          0          0        0         1   \n",
       "87       1          0          0          0          0        1         1   \n",
       "49       4          0          0          1          0        0         0   \n",
       "10       0          0          0          0          0        0         0   \n",
       "2        0          0          0          0          0        0         0   \n",
       "36       5          0          1          0          0        0         0   \n",
       "68       5          0          0          0          1        0         0   \n",
       "46       2          0          0          1          0        0         0   \n",
       "19       0          1          0          0          0        0         0   \n",
       "\n",
       "    OHE_40-79  OHE_80-119  OHE_10-19  OHE_20-29  OHE_30+      ridge  \n",
       "60          0           0          0          1        0   1.485398  \n",
       "69          0           1          0          0        0  18.581121  \n",
       "53          1           0          0          0        1  13.155386  \n",
       "54          0           1          0          0        0  24.431868  \n",
       "70          0           1          1          0        0   4.991122  \n",
       "85          0           1          1          0        0  -8.054824  \n",
       "59          0           0          1          0        0   7.796033  \n",
       "41          0           1          0          0        1   0.167821  \n",
       "45          0           0          0          0        1  -0.428983  \n",
       "38          0           1          0          0        0  18.108021  \n",
       "39          0           1          1          0        0   8.599741  \n",
       "31          0           0          1          0        0  17.294547  \n",
       "67          1           0          1          0        0  14.920215  \n",
       "27          0           0          0          0        0  17.144114  \n",
       "87          0           0          1          0        0 -10.284316  \n",
       "49          0           0          0          0        1  16.819162  \n",
       "10          0           1          0          0        1  -4.581789  \n",
       "2           0           0          0          1        0  11.132366  \n",
       "36          1           0          0          1        0  15.483574  \n",
       "68          1           0          0          1        0  13.507643  \n",
       "46          0           0          0          0        0  32.310330  \n",
       "19          1           0          0          0        0  28.486355  "
      ]
     },
     "execution_count": 51,
     "metadata": {},
     "output_type": "execute_result"
    }
   ],
   "source": [
    "X_test"
   ]
  },
  {
   "cell_type": "code",
   "execution_count": 52,
   "id": "c4d5bba7",
   "metadata": {},
   "outputs": [
    {
     "name": "stdout",
     "output_type": "stream",
     "text": [
      "          n         r        CI95%     p-val\n",
      "pearson  22  0.241838  [-0.2, 0.6]  0.278229 \n",
      "\n",
      "          n         r          CI95%     p-val\n",
      "pearson  22  0.341306  [-0.09, 0.67]  0.120059 \n",
      "\n",
      "          n         r          CI95%     p-val\n",
      "pearson  22 -0.060572  [-0.47, 0.37]  0.788877 \n",
      "\n",
      "          n         r          CI95%     p-val\n",
      "pearson  22  0.281046  [-0.16, 0.63]  0.205155 \n",
      "\n",
      "          n        r          CI95%     p-val\n",
      "pearson  22  0.08764  [-0.35, 0.49]  0.698147 \n",
      "\n",
      "          n         r          CI95%     p-val\n",
      "pearson  22 -0.579326  [-0.8, -0.21]  0.004722 \n",
      "\n",
      "          n         r          CI95%     p-val\n",
      "pearson  22 -0.385775  [-0.69, 0.04]  0.076196 \n",
      "\n",
      "          n         r          CI95%     p-val\n",
      "pearson  22  0.303738  [-0.14, 0.64]  0.169372 \n",
      "\n",
      "          n         r          CI95%     p-val\n",
      "pearson  22 -0.218603  [-0.59, 0.22]  0.328383 \n",
      "\n",
      "          n         r          CI95%     p-val\n",
      "pearson  22 -0.368101  [-0.68, 0.06]  0.091884 \n",
      "\n",
      "          n         r         CI95%     p-val\n",
      "pearson  22 -0.023825  [-0.44, 0.4]  0.916186 \n",
      "\n",
      "          n         r          CI95%     p-val\n",
      "pearson  22 -0.292781  [-0.64, 0.15]  0.186067 \n",
      "\n"
     ]
    }
   ],
   "source": [
    "for i in names:\n",
    "    print(pg.partial_corr(data=X_test, x=\"ridge\", y=i),\"\\n\")"
   ]
  },
  {
   "cell_type": "markdown",
   "id": "38952089",
   "metadata": {},
   "source": [
    "График различий между предугаданными значениями регрессий с использованием методов ridge и lasso."
   ]
  },
  {
   "cell_type": "code",
   "execution_count": 53,
   "id": "725e1967",
   "metadata": {},
   "outputs": [
    {
     "data": {
      "image/png": "[encoded data removed]",
      "text/plain": [
       "<Figure size 1000x600 with 1 Axes>"
      ]
     },
     "metadata": {},
     "output_type": "display_data"
    }
   ],
   "source": [
    "plt.figure(figsize=(10,6))\n",
    "\n",
    "plt.scatter(ridge_pred,ridge_pred  - y_test,\n",
    "          c = 'black', marker = 'o', s = 35, alpha = 0.5,\n",
    "          label = 'Ridge')\n",
    "plt.scatter(lasso_pred,lasso_pred- y_test,\n",
    "          c = 'c', marker = 'o', s = 35, alpha = 0.7,\n",
    "          label = 'lasso')\n",
    "plt.xlabel('Predicted values')\n",
    "plt.ylabel('Tailings')\n",
    "plt.legend(loc = 'upper left')\n",
    "plt.hlines(y = 0, xmin = 0, xmax = 50, lw = 2, color = 'red')\n",
    "plt.show()"
   ]
  },
  {
   "cell_type": "markdown",
   "id": "a567eb83",
   "metadata": {},
   "source": [
    "Высокую корреляцию имеет только признак возраст 35-45 и дозировка 40-79."
   ]
  },
  {
   "cell_type": "markdown",
   "id": "860df9a2",
   "metadata": {},
   "source": [
    "Лучше себя показала именно ridge регрессиия. Это обусловлено тем, что все признаки являются определяющими, тоесть не получится как в лассо убрать признаки с низким влиянием на результат или высоким p-значением, поэтому мы можем только уменьшить вес большинства переменных в модели."
   ]
  }
 ],
 "metadata": {
  "kernelspec": {
   "display_name": "Python 3 (ipykernel)",
   "language": "python",
   "name": "python3"
  },
  "language_info": {
   "codemirror_mode": {
    "name": "ipython",
    "version": 3
   },
   "file_extension": ".py",
   "mimetype": "text/x-python",
   "name": "python",
   "nbconvert_exporter": "python",
   "pygments_lexer": "ipython3",
   "version": "3.10.8"
  }
 },
 "nbformat": 4,
 "nbformat_minor": 5
}
