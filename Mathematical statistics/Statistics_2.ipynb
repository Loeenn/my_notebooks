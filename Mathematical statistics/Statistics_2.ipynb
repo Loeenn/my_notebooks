{
 "cells": [
  {
   "cell_type": "markdown",
   "id": "864624a8",
   "metadata": {},
   "source": [
    "# Построение доверительных интервалов"
   ]
  },
  {
   "cell_type": "markdown",
   "id": "b9c26422",
   "metadata": {},
   "source": [
    "### Задача 1."
   ]
  },
  {
   "cell_type": "markdown",
   "id": "4ec6f002",
   "metadata": {},
   "source": [
    "Методом перебора найдите наиболее подходящий тип распределения для выборки,содержащейся в файлеSHAD-номер группы/data_номер_посписку*.csv(воспользуйтесь соответствующими функциями для чтения файла).  Воспользуйтесьметодами описательной статистики. Сначала постройте гистограмму, чтобы получитьпредставление о форме плотности распределения. Затем изучите квантильные графикидля разных распределений. Наложите график соответствующей теоретической плотностираспределения на полученную гистограмму (параметры для теоретического графика,соответственно, должны быть подсчитаны по выборке).Примените, по возможности, критерий согласия (+доп.баллы).Выбор распределения должен быть обоснован. Без соответствующих выводов работа незасчитывается."
   ]
  },
  {
   "cell_type": "code",
   "execution_count": 2,
   "id": "a0070737",
   "metadata": {},
   "outputs": [],
   "source": [
    "import pandas as pd\n",
    "import matplotlib.pyplot as plt\n",
    "import scipy.stats as sps\n",
    "import numpy as np\n",
    "import numpy.random as nr\n",
    "import seaborn as sns\n",
    "import statsmodels.api as sm\n",
    "import random"
   ]
  },
  {
   "cell_type": "markdown",
   "id": "08387b17",
   "metadata": {},
   "source": [
    "Чтение файла"
   ]
  },
  {
   "cell_type": "code",
   "execution_count": 3,
   "id": "e70525e7",
   "metadata": {},
   "outputs": [],
   "source": [
    "df = pd.DataFrame()\n",
    "df[\"x\"] = pd.DataFrame.transpose(pd.read_excel(\"data_6.xlsx\")).index\n",
    "data = df[\"x\"]"
   ]
  },
  {
   "cell_type": "code",
   "execution_count": 4,
   "id": "7dec26e7",
   "metadata": {},
   "outputs": [
    {
     "data": {
      "text/html": [
       "<div>\n",
       "<style scoped>\n",
       "    .dataframe tbody tr th:only-of-type {\n",
       "        vertical-align: middle;\n",
       "    }\n",
       "\n",
       "    .dataframe tbody tr th {\n",
       "        vertical-align: top;\n",
       "    }\n",
       "\n",
       "    .dataframe thead th {\n",
       "        text-align: right;\n",
       "    }\n",
       "</style>\n",
       "<table border=\"1\" class=\"dataframe\">\n",
       "  <thead>\n",
       "    <tr style=\"text-align: right;\">\n",
       "      <th></th>\n",
       "      <th>x</th>\n",
       "    </tr>\n",
       "  </thead>\n",
       "  <tbody>\n",
       "    <tr>\n",
       "      <th>0</th>\n",
       "      <td>13.196962</td>\n",
       "    </tr>\n",
       "    <tr>\n",
       "      <th>1</th>\n",
       "      <td>16.448855</td>\n",
       "    </tr>\n",
       "    <tr>\n",
       "      <th>2</th>\n",
       "      <td>12.355594</td>\n",
       "    </tr>\n",
       "    <tr>\n",
       "      <th>3</th>\n",
       "      <td>12.805528</td>\n",
       "    </tr>\n",
       "    <tr>\n",
       "      <th>4</th>\n",
       "      <td>12.256963</td>\n",
       "    </tr>\n",
       "    <tr>\n",
       "      <th>...</th>\n",
       "      <td>...</td>\n",
       "    </tr>\n",
       "    <tr>\n",
       "      <th>195</th>\n",
       "      <td>12.135954</td>\n",
       "    </tr>\n",
       "    <tr>\n",
       "      <th>196</th>\n",
       "      <td>12.112579</td>\n",
       "    </tr>\n",
       "    <tr>\n",
       "      <th>197</th>\n",
       "      <td>12.810239</td>\n",
       "    </tr>\n",
       "    <tr>\n",
       "      <th>198</th>\n",
       "      <td>14.187722</td>\n",
       "    </tr>\n",
       "    <tr>\n",
       "      <th>199</th>\n",
       "      <td>12.126421</td>\n",
       "    </tr>\n",
       "  </tbody>\n",
       "</table>\n",
       "<p>200 rows × 1 columns</p>\n",
       "</div>"
      ],
      "text/plain": [
       "             x\n",
       "0    13.196962\n",
       "1    16.448855\n",
       "2    12.355594\n",
       "3    12.805528\n",
       "4    12.256963\n",
       "..         ...\n",
       "195  12.135954\n",
       "196  12.112579\n",
       "197  12.810239\n",
       "198  14.187722\n",
       "199  12.126421\n",
       "\n",
       "[200 rows x 1 columns]"
      ]
     },
     "execution_count": 4,
     "metadata": {},
     "output_type": "execute_result"
    }
   ],
   "source": [
    "df"
   ]
  },
  {
   "cell_type": "markdown",
   "id": "bb006270",
   "metadata": {},
   "source": [
    "Визуализируем нашу выбоку, параметр bins отвечает за количество прямоугольников.Выберем 30 для простоты восприятия"
   ]
  },
  {
   "cell_type": "code",
   "execution_count": 5,
   "id": "e51cf4b3",
   "metadata": {
    "scrolled": false
   },
   "outputs": [
    {
     "data": {
      "image/png": "[encoded data removed]",
      "text/plain": [
       "<Figure size 640x480 with 1 Axes>"
      ]
     },
     "metadata": {},
     "output_type": "display_data"
    }
   ],
   "source": [
    "plt.hist(data, bins = 30, density = True)\n",
    "plt.show()"
   ]
  },
  {
   "cell_type": "markdown",
   "id": "6a4c328e",
   "metadata": {},
   "source": [
    "Посмотрим при bins= 20"
   ]
  },
  {
   "cell_type": "code",
   "execution_count": 6,
   "id": "c605d92c",
   "metadata": {},
   "outputs": [
    {
     "data": {
      "image/png": "[encoded data removed]",
      "text/plain": [
       "<Figure size 640x480 with 1 Axes>"
      ]
     },
     "metadata": {},
     "output_type": "display_data"
    }
   ],
   "source": [
    "plt.hist(data, bins = 20, density = True)\n",
    "plt.show()"
   ]
  },
  {
   "cell_type": "markdown",
   "id": "49b643c8",
   "metadata": {},
   "source": [
    "Обозначим за тетту и сигму матожидание и стандартное отколонение"
   ]
  },
  {
   "cell_type": "code",
   "execution_count": 7,
   "id": "670016da",
   "metadata": {
    "scrolled": true
   },
   "outputs": [],
   "source": [
    "thetta,sigma = data.mean(),data.std()\n"
   ]
  },
  {
   "cell_type": "markdown",
   "id": "e2aaab7f",
   "metadata": {},
   "source": [
    "Теперь будем строить квантильные графики нашей выборки с разными распределениями,чтобы понять,к какому из них принадлежит наша выборка. "
   ]
  },
  {
   "cell_type": "markdown",
   "id": "ac41212b",
   "metadata": {},
   "source": [
    "## Построим  квантильный график нормального распределения "
   ]
  },
  {
   "cell_type": "code",
   "execution_count": 8,
   "id": "301b2522",
   "metadata": {
    "scrolled": false
   },
   "outputs": [
    {
     "data": {
      "image/png": "[encoded data removed]",
      "text/plain": [
       "<Figure size 640x480 with 1 Axes>"
      ]
     },
     "metadata": {},
     "output_type": "display_data"
    }
   ],
   "source": [
    "loc, scale = sps.norm.fit(data.to_numpy())\n",
    "fig = sm.qqplot(data.to_numpy(),dist = sps.norm(loc=loc, scale=scale), line=\"45\")\n",
    "plt.show()"
   ]
  },
  {
   "cell_type": "markdown",
   "id": "4a5d609c",
   "metadata": {},
   "source": [
    "## Построим  квантильный график экспоненциального распределения "
   ]
  },
  {
   "cell_type": "code",
   "execution_count": 9,
   "id": "4f6a93be",
   "metadata": {},
   "outputs": [
    {
     "data": {
      "image/png": "[encoded data removed]",
      "text/plain": [
       "<Figure size 640x480 with 1 Axes>"
      ]
     },
     "metadata": {},
     "output_type": "display_data"
    }
   ],
   "source": [
    "\n",
    "import statsmodels.api as sm\n",
    "import matplotlib.pyplot as plt\n",
    "\n",
    "loc, scale = sps.expon.fit(data.to_numpy())\n",
    "fig = sm.qqplot(data.to_numpy(),dist = sps.expon(loc=loc, scale=scale), line=\"45\")\n",
    "plt.show()"
   ]
  },
  {
   "cell_type": "markdown",
   "id": "b94a082b",
   "metadata": {},
   "source": [
    "Мы видим,что графиком является функция прямой под углом 45 градусов. Это означает что с ростом квантилей теоертического распределения, равномерно растут и квантили нашей выборки. Из этого можно сделать вывод,что искомое распределение похоже на экспоненциальное."
   ]
  },
  {
   "cell_type": "markdown",
   "id": "a1c150c0",
   "metadata": {},
   "source": [
    "## Построим  квантильный график равномерного распределения "
   ]
  },
  {
   "cell_type": "code",
   "execution_count": 10,
   "id": "a62c36a7",
   "metadata": {
    "scrolled": false
   },
   "outputs": [
    {
     "data": {
      "image/png": "[encoded data removed]",
      "text/plain": [
       "<Figure size 640x480 with 1 Axes>"
      ]
     },
     "metadata": {},
     "output_type": "display_data"
    }
   ],
   "source": [
    "loc, scale = sps.uniform.fit(data.to_numpy())\n",
    "fig = sm.qqplot(data.to_numpy(),dist = sps.uniform(loc=loc, scale=scale), line=\"45\")\n",
    "plt.show()"
   ]
  },
  {
   "cell_type": "markdown",
   "id": "a25fff1e",
   "metadata": {},
   "source": [
    "## Построим  квантильный график логнормального распределения "
   ]
  },
  {
   "cell_type": "code",
   "execution_count": 11,
   "id": "543f68d3",
   "metadata": {
    "scrolled": false
   },
   "outputs": [
    {
     "data": {
      "image/png": "[encoded data removed]",
      "text/plain": [
       "<Figure size 640x480 with 1 Axes>"
      ]
     },
     "metadata": {},
     "output_type": "display_data"
    }
   ],
   "source": [
    "loc= sps.lognorm.fit(data.to_numpy())\n",
    "sigma=0.95\n",
    "fig = sm.qqplot(data.to_numpy(),dist = sps.lognorm(sigma), line=\"45\")"
   ]
  },
  {
   "cell_type": "markdown",
   "id": "0e81e32c",
   "metadata": {},
   "source": [
    "Мы построили квантильные графики различных функций,построили график плотности нашей выборки.Однозначно можно сказать,что наша выборка распределена экспоненциально."
   ]
  },
  {
   "cell_type": "markdown",
   "id": "6307fbec",
   "metadata": {},
   "source": [
    "# Наложим график соответствующей теоретической плотности распределения на полученную гистограмму"
   ]
  },
  {
   "cell_type": "code",
   "execution_count": 12,
   "id": "71ddadd5",
   "metadata": {},
   "outputs": [
    {
     "data": {
      "text/plain": [
       "<AxesSubplot: ylabel='Density'>"
      ]
     },
     "execution_count": 12,
     "metadata": {},
     "output_type": "execute_result"
    },
    {
     "data": {
      "image/png": "[encoded data removed]",
      "text/plain": [
       "<Figure size 640x480 with 1 Axes>"
      ]
     },
     "metadata": {},
     "output_type": "display_data"
    }
   ],
   "source": [
    "fig, ax = plt.subplots()\n",
    "ax.hist(df, density=True)\n",
    "df.plot.kde(ax=ax)"
   ]
  },
  {
   "cell_type": "markdown",
   "id": "812d2615",
   "metadata": {},
   "source": [
    "Рассмотрим различные критерии для проверки статистики нашей выборки по отношению к выборкам из раздичных распределений"
   ]
  },
  {
   "cell_type": "markdown",
   "id": "3d04c7c9",
   "metadata": {},
   "source": [
    "## Критерий Колмогорова"
   ]
  },
  {
   "cell_type": "markdown",
   "id": "df2e88af",
   "metadata": {},
   "source": [
    "Для нормального распределения с даннымипараметрами мат ожидания и ср.кв.откл."
   ]
  },
  {
   "cell_type": "code",
   "execution_count": 13,
   "id": "91ee456d",
   "metadata": {},
   "outputs": [],
   "source": [
    "thetta,sigma=df.mean(),df.std()"
   ]
  },
  {
   "cell_type": "code",
   "execution_count": 14,
   "id": "2f5413f0",
   "metadata": {
    "scrolled": true
   },
   "outputs": [
    {
     "data": {
      "text/plain": [
       "KstestResult(statistic=0.14774617520108885, pvalue=0.00028285432499512903)"
      ]
     },
     "execution_count": 14,
     "metadata": {},
     "output_type": "execute_result"
    }
   ],
   "source": [
    "sps.kstest(df[\"x\"],cdf = sps.norm(loc=thetta,scale=sigma).cdf)"
   ]
  },
  {
   "cell_type": "markdown",
   "id": "a1fb6b76",
   "metadata": {},
   "source": [
    "Для экспоненциального распределения."
   ]
  },
  {
   "cell_type": "code",
   "execution_count": 15,
   "id": "b971627a",
   "metadata": {},
   "outputs": [
    {
     "data": {
      "text/plain": [
       "KstestResult(statistic=0.63, pvalue=2.2072145619286646e-77)"
      ]
     },
     "execution_count": 15,
     "metadata": {},
     "output_type": "execute_result"
    }
   ],
   "source": [
    "sps.kstest(df[\"x\"],cdf = sps.expon(loc=thetta,scale = sigma).cdf)"
   ]
  },
  {
   "cell_type": "markdown",
   "id": "c6ac7a30",
   "metadata": {},
   "source": [
    "Для равномерного распределения"
   ]
  },
  {
   "cell_type": "code",
   "execution_count": 16,
   "id": "da778a01",
   "metadata": {
    "scrolled": true
   },
   "outputs": [
    {
     "data": {
      "text/plain": [
       "KstestResult(statistic=0.405, pvalue=3.776881955412003e-30)"
      ]
     },
     "execution_count": 16,
     "metadata": {},
     "output_type": "execute_result"
    }
   ],
   "source": [
    "sps.kstest(df[\"x\"],cdf = sps.uniform(df[\"x\"].min()).cdf)"
   ]
  },
  {
   "cell_type": "markdown",
   "id": "e3065913",
   "metadata": {},
   "source": [
    "Для логнормального"
   ]
  },
  {
   "cell_type": "code",
   "execution_count": 17,
   "id": "fbb92ceb",
   "metadata": {},
   "outputs": [
    {
     "data": {
      "text/plain": [
       "KstestResult(statistic=0.5753299331093154, pvalue=3.0201456526316283e-63)"
      ]
     },
     "execution_count": 17,
     "metadata": {},
     "output_type": "execute_result"
    }
   ],
   "source": [
    "sps.kstest(df[\"x\"],cdf = sps.lognorm(thetta).cdf)"
   ]
  },
  {
   "cell_type": "markdown",
   "id": "9e9e58fa",
   "metadata": {},
   "source": [
    "## Критерий Шапиро-Уилка"
   ]
  },
  {
   "cell_type": "code",
   "execution_count": 18,
   "id": "62c275fc",
   "metadata": {},
   "outputs": [
    {
     "data": {
      "text/plain": [
       "ShapiroResult(statistic=0.8485705256462097, pvalue=3.6676122750801954e-13)"
      ]
     },
     "execution_count": 18,
     "metadata": {},
     "output_type": "execute_result"
    }
   ],
   "source": [
    "sps.shapiro(df)"
   ]
  },
  {
   "cell_type": "markdown",
   "id": "2fc58c1b",
   "metadata": {},
   "source": [
    "Ненормальное"
   ]
  },
  {
   "cell_type": "markdown",
   "id": "ce05cc06",
   "metadata": {},
   "source": [
    "## Критерий Смирнова"
   ]
  },
  {
   "cell_type": "markdown",
   "id": "f7467ecf",
   "metadata": {},
   "source": [
    "Для нормального распределения с даннымипараметрами мат ожидания и ср.кв.откл."
   ]
  },
  {
   "cell_type": "code",
   "execution_count": 19,
   "id": "56415932",
   "metadata": {
    "scrolled": true
   },
   "outputs": [
    {
     "data": {
      "text/plain": [
       "KstestResult(statistic=0.195, pvalue=0.0009668691315127085)"
      ]
     },
     "execution_count": 19,
     "metadata": {},
     "output_type": "execute_result"
    }
   ],
   "source": [
    "sps.ks_2samp(df[\"x\"],sps.norm.rvs(loc=thetta,scale = sigma,size=200))"
   ]
  },
  {
   "cell_type": "markdown",
   "id": "cba7f551",
   "metadata": {},
   "source": [
    "Для экспоненциального распределения."
   ]
  },
  {
   "cell_type": "code",
   "execution_count": 20,
   "id": "32dedf0c",
   "metadata": {},
   "outputs": [
    {
     "data": {
      "text/plain": [
       "KstestResult(statistic=0.63, pvalue=1.5506384306777397e-37)"
      ]
     },
     "execution_count": 20,
     "metadata": {},
     "output_type": "execute_result"
    }
   ],
   "source": [
    "sps.ks_2samp(df[\"x\"], sps.expon.rvs(loc=thetta,scale = sigma,size=200))"
   ]
  },
  {
   "cell_type": "markdown",
   "id": "960967fa",
   "metadata": {},
   "source": [
    "Для равномерного распределения"
   ]
  },
  {
   "cell_type": "code",
   "execution_count": 21,
   "id": "566634ef",
   "metadata": {},
   "outputs": [
    {
     "data": {
      "text/plain": [
       "KstestResult(statistic=0.405, pvalue=4.734741877153768e-15)"
      ]
     },
     "execution_count": 21,
     "metadata": {},
     "output_type": "execute_result"
    }
   ],
   "source": [
    "sps.ks_2samp(df[\"x\"], sps.uniform.rvs(df[\"x\"].min(),size=200))"
   ]
  },
  {
   "cell_type": "markdown",
   "id": "0873bbbf",
   "metadata": {},
   "source": [
    "Для логнормального"
   ]
  },
  {
   "cell_type": "code",
   "execution_count": 22,
   "id": "5e22375f",
   "metadata": {},
   "outputs": [
    {
     "data": {
      "text/plain": [
       "KstestResult(statistic=0.535, pvalue=1.464559370199308e-26)"
      ]
     },
     "execution_count": 22,
     "metadata": {},
     "output_type": "execute_result"
    }
   ],
   "source": [
    "sps.ks_2samp(df[\"x\"], sps.lognorm.rvs(thetta,size=200))"
   ]
  },
  {
   "cell_type": "markdown",
   "id": "c281b7cf",
   "metadata": {},
   "source": [
    "## T-критерий Стьюдента"
   ]
  },
  {
   "cell_type": "markdown",
   "id": "aabf422b",
   "metadata": {},
   "source": [
    "Для нормального распределения с данными параметрами мат ожидания и ср.кв.откл."
   ]
  },
  {
   "cell_type": "code",
   "execution_count": 23,
   "id": "58e8df09",
   "metadata": {
    "scrolled": true
   },
   "outputs": [
    {
     "data": {
      "text/plain": [
       "Ttest_indResult(statistic=0.5333652586966362, pvalue=0.5940784763338103)"
      ]
     },
     "execution_count": 23,
     "metadata": {},
     "output_type": "execute_result"
    }
   ],
   "source": [
    "sps.ttest_ind(df[\"x\"],sps.norm.rvs(loc=thetta,scale = sigma,size=200),equal_var = True)"
   ]
  },
  {
   "cell_type": "markdown",
   "id": "d1f3627f",
   "metadata": {},
   "source": [
    "Для экспоненциального распределения."
   ]
  },
  {
   "cell_type": "code",
   "execution_count": 24,
   "id": "87612062",
   "metadata": {},
   "outputs": [
    {
     "data": {
      "text/plain": [
       "Ttest_indResult(statistic=-9.222820846403366, pvalue=1.7153923324720855e-18)"
      ]
     },
     "execution_count": 24,
     "metadata": {},
     "output_type": "execute_result"
    }
   ],
   "source": [
    "sps.ttest_ind(df[\"x\"],sps.expon.rvs(loc=thetta,scale = sigma,size=200),equal_var = True)"
   ]
  },
  {
   "cell_type": "markdown",
   "id": "6501227a",
   "metadata": {},
   "source": [
    "Для равномерного распределения"
   ]
  },
  {
   "cell_type": "code",
   "execution_count": 25,
   "id": "d3df9355",
   "metadata": {},
   "outputs": [
    {
     "data": {
      "text/plain": [
       "Ttest_indResult(statistic=7.307418929881869, pvalue=1.5024067698566837e-12)"
      ]
     },
     "execution_count": 25,
     "metadata": {},
     "output_type": "execute_result"
    }
   ],
   "source": [
    "sps.ttest_ind(df[\"x\"],sps.uniform.rvs(df[\"x\"].min(),size=200),equal_var = True)"
   ]
  },
  {
   "cell_type": "markdown",
   "id": "fe9a61e6",
   "metadata": {},
   "source": [
    "Для логнормального"
   ]
  },
  {
   "cell_type": "code",
   "execution_count": 26,
   "id": "55c3ff78",
   "metadata": {},
   "outputs": [
    {
     "data": {
      "text/plain": [
       "Ttest_indResult(statistic=-1.324691902169285, pvalue=0.1860334565349528)"
      ]
     },
     "execution_count": 26,
     "metadata": {},
     "output_type": "execute_result"
    }
   ],
   "source": [
    "sps.ttest_ind(df[\"x\"],sps.lognorm.rvs(thetta,size=200),equal_var = True)"
   ]
  },
  {
   "cell_type": "markdown",
   "id": "dea4df8d",
   "metadata": {},
   "source": [
    "# Задание 2"
   ]
  },
  {
   "cell_type": "markdown",
   "id": "6ab18553",
   "metadata": {},
   "source": [
    "## Здесь мы будем оценивать параметр $\\lambda$ экспоненциального распределения"
   ]
  },
  {
   "cell_type": "markdown",
   "id": "6f54cc73",
   "metadata": {},
   "source": [
    "$$\n",
    "x=(x_{1},x_{2}, ... x_{n})\\sim Exp(\\theta)\\\\\n",
    "\\textbf{F}_{\\theta}(x) = 1-e^{-x\\theta},x>0\\\\\n",
    "\\textbf{P}_{\\theta}(x) = \\theta e^{-\\theta x}\\\\\n",
    "М.О:\\int_{0}^{\\infty}x \\textbf{P}_{\\theta}(x)dx =\\frac{1}{\\overline\\theta}\\\\\n",
    "E\\xi = \\frac{1}{\\overline{\\theta}}=\\overline{x}\\Rightarrow \\overline\\theta = \\frac{1}{\\overline x }\\\\\n",
    "\\Delta\\xi = \\frac{1}{\\theta^{2}}\n",
    "$$"
   ]
  },
  {
   "cell_type": "markdown",
   "id": "3bf418ea",
   "metadata": {},
   "source": [
    "Теоретический доверительный интервал: \n",
    "\n",
    "$$\n",
    "\\mathbb{P}\\left( \\bar{X} - \\frac{c_{1-\\alpha/2}\\sigma}{\\sqrt{n}} < \\mu < \\bar{X} + \\frac{c_{1-\\alpha/2}\\sigma}{\\sqrt{n}} \\right) = 1-\\alpha,\n",
    "$$\n",
    "где $c_{\\alpha}$ — квантиль распределения $\\mathcal{N}(0,1)$ уровня $\\alpha$."
   ]
  },
  {
   "cell_type": "code",
   "execution_count": 27,
   "id": "fc93e09b",
   "metadata": {},
   "outputs": [
    {
     "data": {
      "text/plain": [
       "(13.097960233382636, 1.0129039513238804)"
      ]
     },
     "execution_count": 27,
     "metadata": {},
     "output_type": "execute_result"
    }
   ],
   "source": [
    "thetta,sigma = data.mean(),data.std()\n",
    "n=200\n",
    "thetta,sigma\n"
   ]
  },
  {
   "cell_type": "markdown",
   "id": "e96d4f23",
   "metadata": {},
   "source": [
    "Зная доверительный интервал для мат.ожидания,мы можем найти итоговый интервал,края которого будут обратны. Зная Теоретический доверительный инетрвал для выборочного среднего,и тот факт,что в нашем распределении выборочная $\\lambda$ обратна выборочному мат. ожиданию,получаем искомую формулу.Она обратная тому что выше."
   ]
  },
  {
   "cell_type": "code",
   "execution_count": 32,
   "id": "0cf5e7eb",
   "metadata": {},
   "outputs": [
    {
     "name": "stdout",
     "output_type": "stream",
     "text": [
      "Оцениваемое значение:  0.07634776577281935\n",
      "Доверительный интервал для уровня доверия = 0.99:  [0.07605531250174516, 0.07664247684980614]\n",
      "Доверительный интервал для уровня доверия = 0.95:  [0.07603822948250191, 0.07665983248353586]\n",
      "Доверительный интервал для уровня доверия = 0.9:  [0.07601584621690921, 0.07668259666265353]\n"
     ]
    },
    {
     "data": {
      "image/png": "[encoded data removed]",
      "text/plain": [
       "<Figure size 640x480 with 1 Axes>"
      ]
     },
     "metadata": {},
     "output_type": "display_data"
    }
   ],
   "source": [
    "lamb = n/sum(df[\"x\"])\n",
    "print(\"Оцениваемое значение: \",lamb)\n",
    "fragn = {}\n",
    "for alpha in [0.99,0.95,0.9]:\n",
    "    CI_Theoretical = [ 1/(thetta + sps.expon.ppf(1-alpha/2)*sigma/np.sqrt(n)),1/(thetta - sps.expon.ppf(1-alpha/2)*sigma/np.sqrt(n))]\n",
    "    print(f\"Доверительный интервал для уровня доверия = {alpha}: \",CI_Theoretical)\n",
    "    fragn[f\"{alpha}\"] =[CI_Theoretical[0],CI_Theoretical[1],lamb]\n",
    "fig, ax = plt.subplots()\n",
    "ax.boxplot(fragn.values())\n",
    "ax.set_xticklabels(fragn.keys())\n",
    "plt.show()"
   ]
  },
  {
   "cell_type": "markdown",
   "id": "99e0d4db",
   "metadata": {},
   "source": [
    "$$\n",
    "x=(x_{1},x_{2}, ... x_{n})\\sim Exp(\\theta)\\\\\n",
    "\\textbf{F}_{\\theta}(x) = 1-e^{-x\\theta},x>0\\\\\n",
    "\\textbf{P}_{\\theta}(x) = \\theta e^{-\\theta x}\\\\\n",
    "f(x_{1},x_{2},x_{3}...x_{n}) = f(x_{1})f(x_{2})...f(x_{n}) = \\prod_{i=1}^{n}\\theta e^{-\\theta x_{i}}\\\\\n",
    "l(\\lambda) = \\sum_{i=1}^{n} \\ln \\theta(-\\lambda x_{i}) = n \\ln \\theta - \\theta \\sum_{i=1}^{n}x_{i}\n",
    "$$"
   ]
  },
  {
   "cell_type": "markdown",
   "id": "86cc045f",
   "metadata": {},
   "source": [
    "$$\n",
    "x=(x_{1},x_{2}...x_{n})\\sim Exp(\\lambda)\\\\\n",
    "\\text{Построим доверительный интервал для параметра }\\lambda\\\\\n",
    "\\text{По методу моментов мы определили выборочный параметр }\\widehat{\\lambda} = \\frac{1}{\\overline{x}}\\\\\n",
    "l(\\lambda) = n\\ln{\\lambda}-\\lambda\\sum_{i=1}^{n}x_{i}\\\\\n",
    "\\acute{l}= \\frac{n}{\\lambda}-\\sum_{i=1}^{n}x_{i}\\\\\n",
    "\\acute{\\acute{l}} = n\\frac{-1}{\\lambda^{2}}\\\\\n",
    "\\overline{\\textbf{I}} = -\\acute{\\acute{l}}(\\overline{\\lambda}) =\\frac{n}{\\overline{\\lambda}^{2}}\\\\\n",
    "\\widehat{var} = \\overline{\\textbf{I}}^{-1}\\\\\n",
    "se(\\widehat\\lambda) = \\sqrt{\\widehat{var}}\\\\\n",
    "\\text{Итоговый интервал: }\\\\\n",
    "[\\widehat{\\lambda} - z_{cr}se(\\widehat\\lambda);\\widehat{\\lambda} + z_{cr}se(\\widehat\\lambda)]\n",
    "$$"
   ]
  },
  {
   "cell_type": "markdown",
   "id": "5addc93a",
   "metadata": {},
   "source": [
    "Искомая лямбда"
   ]
  },
  {
   "cell_type": "code",
   "execution_count": 28,
   "id": "e61e8d69",
   "metadata": {
    "scrolled": true
   },
   "outputs": [
    {
     "data": {
      "text/plain": [
       "0.07634776577281935"
      ]
     },
     "execution_count": 28,
     "metadata": {},
     "output_type": "execute_result"
    }
   ],
   "source": [
    "lamb = n/sum(df[\"x\"])\n",
    "lamb"
   ]
  },
  {
   "cell_type": "code",
   "execution_count": 29,
   "id": "51f3e42f",
   "metadata": {},
   "outputs": [
    {
     "data": {
      "text/plain": [
       "34311.3124550546"
      ]
     },
     "execution_count": 29,
     "metadata": {},
     "output_type": "execute_result"
    }
   ],
   "source": [
    "I = n/((lamb)**2)#информация Фишера\n",
    "I"
   ]
  },
  {
   "cell_type": "code",
   "execution_count": 30,
   "id": "97a82a72",
   "metadata": {},
   "outputs": [
    {
     "data": {
      "text/plain": [
       "2.9144906692506432e-05"
      ]
     },
     "execution_count": 30,
     "metadata": {},
     "output_type": "execute_result"
    }
   ],
   "source": [
    "var=1/I# оценка дисперсии лямбды с крышкой\n",
    "var"
   ]
  },
  {
   "cell_type": "code",
   "execution_count": 31,
   "id": "fe7bcef8",
   "metadata": {},
   "outputs": [
    {
     "data": {
      "text/plain": [
       "0.0053986022906402755"
      ]
     },
     "execution_count": 31,
     "metadata": {},
     "output_type": "execute_result"
    }
   ],
   "source": [
    "se = var**0.5#стандартная ошибка лямбды с крышкой\n",
    "se"
   ]
  },
  {
   "cell_type": "code",
   "execution_count": 32,
   "id": "11dd3507",
   "metadata": {},
   "outputs": [
    {
     "data": {
      "text/plain": [
       "[0.06576650528316441, 0.08692902626247428]"
      ]
     },
     "execution_count": 32,
     "metadata": {},
     "output_type": "execute_result"
    }
   ],
   "source": [
    "# для 95% zкритическое =0.07/z ищем по z-таблице,где искомое значение это бета/2,тоесть для 95 это (1-0.05)/2\n",
    "Interval_95 = [lamb-1.96*se,lamb+1.96*se]\n",
    "Interval_95"
   ]
  },
  {
   "cell_type": "code",
   "execution_count": 33,
   "id": "3317881e",
   "metadata": {
    "scrolled": false
   },
   "outputs": [
    {
     "name": "stdout",
     "output_type": "stream",
     "text": [
      "[0.07629377974991294, 0.07640175179572575]\n",
      "[0.07596986361247453, 0.07672566793316417]\n",
      "[0.07569993349794252, 0.07699559804769618]\n"
     ]
    },
    {
     "data": {
      "image/png": "[encoded data removed]",
      "text/plain": [
       "<Figure size 640x480 with 1 Axes>"
      ]
     },
     "metadata": {},
     "output_type": "display_data"
    }
   ],
   "source": [
    "#99%-2.57\n",
    "Interval_99 = [lamb-0.01*se,lamb+0.01*se]\n",
    "Interval_95 = [lamb-0.07*se,lamb+0.07*se]\n",
    "Interval_90 = [lamb-0.12*se,lamb+0.12*se]\n",
    "print(Interval_99)\n",
    "print(Interval_95)\n",
    "print(Interval_90)\n",
    "fragn = {}\n",
    "fragn[0.99] =[Interval_99[0],Interval_99[1],lamb]\n",
    "fragn[0.95] =[Interval_95[0],Interval_95[1],lamb]\n",
    "fragn[0.9] =[Interval_90[0],Interval_90[1],lamb]\n",
    "fig, ax = plt.subplots()\n",
    "ax.boxplot(fragn.values())\n",
    "ax.set_xticklabels(fragn.keys())\n",
    "plt.show()"
   ]
  },
  {
   "cell_type": "markdown",
   "id": "9c5fc36a",
   "metadata": {},
   "source": [
    "Реализуем с помощью python"
   ]
  },
  {
   "cell_type": "code",
   "execution_count": 34,
   "id": "bb784e58",
   "metadata": {
    "scrolled": false
   },
   "outputs": [
    {
     "name": "stdout",
     "output_type": "stream",
     "text": [
      "Оцениваемое значение:  0.07634776577281935\n",
      "Доверительный интервал для alpha = 0.01:  0.07627383733948455 , 0.07642183765549247\n",
      "Доверительный интервал для alpha = 0.05:  0.07597931923341324 , 0.07671980314109873\n",
      "Доверительный интервал для alpha = 0.1:  0.07561297677654397 , 0.07709697592123675\n"
     ]
    },
    {
     "name": "stderr",
     "output_type": "stream",
     "text": [
      "/var/folders/9v/5p5m1vyn1l15r6g0mn4h76wc0000gn/T/ipykernel_12757/927649276.py:4: DeprecationWarning: Use of keyword argument `alpha` for method `interval` is deprecated. Use first positional argument or keyword argument `confidence` instead.\n",
      "  CI_Theoretical = sps.norm.interval(alpha=alpha, loc=thetta, scale=sigma)\n"
     ]
    },
    {
     "data": {
      "image/png": "[encoded data removed]",
      "text/plain": [
       "<Figure size 640x480 with 1 Axes>"
      ]
     },
     "metadata": {},
     "output_type": "display_data"
    }
   ],
   "source": [
    "print(\"Оцениваемое значение: \",lamb)\n",
    "fragn = {}\n",
    "for alpha in [0.01,0.05,0.1]:\n",
    "    CI_Theoretical = sps.norm.interval(alpha=alpha, loc=thetta, scale=sigma)\n",
    "    print(f\"Доверительный интервал для alpha = {alpha}: \",1/CI_Theoretical[1],\",\" ,1/CI_Theoretical[0])\n",
    "    fragn[f\"{1-alpha}\"] =[1/CI_Theoretical[0],1/CI_Theoretical[1],lamb]\n",
    "fig, ax = plt.subplots()\n",
    "ax.boxplot(fragn.values())\n",
    "ax.set_xticklabels(fragn.keys())\n",
    "plt.show()"
   ]
  },
  {
   "cell_type": "markdown",
   "id": "b0e22cca",
   "metadata": {},
   "source": [
    "# Bootstrapping на основе параметрического бустинга"
   ]
  },
  {
   "cell_type": "code",
   "execution_count": 35,
   "id": "e09c961e",
   "metadata": {},
   "outputs": [
    {
     "name": "stdout",
     "output_type": "stream",
     "text": [
      "13.097960233382636\n",
      "Доверительный интервал на основе парметрического бустрэпа равен [13.774660974374655, 14.151312525276172]\n"
     ]
    }
   ],
   "source": [
    "\n",
    "print(np.mean(data))\n",
    "number_of_bootstrap_samples = 10 # количество бутстрэп-выборок\n",
    "size_of_bootstrap_samples = 20 # размер бутстрэп-выборок\n",
    "bootstrap_samples = []\n",
    "#bootstrap_samples = np.random.exponential(scale=thetta,size=[number_of_bootstrap_samples,size_of_bootstrap_samples]) \n",
    "for i in range(number_of_bootstrap_samples):\n",
    "    bootstrap_samples.append(sps.expon(loc=thetta).rvs(size=size_of_bootstrap_samples))\n",
    "bootstrap_estimates = np.apply_along_axis(np.mean, 1, bootstrap_samples)\n",
    "CI_Bootstrap_Parametric = [np.quantile(bootstrap_estimates,alpha/2), np.quantile(bootstrap_estimates,1-alpha/2)]\n",
    "print(\"Доверительный интервал на основе парметрического бустрэпа равен\", CI_Bootstrap_Parametric)"
   ]
  },
  {
   "cell_type": "markdown",
   "id": "3193528f",
   "metadata": {},
   "source": [
    "# Bootstrapping на основе непараметрического бустинга"
   ]
  },
  {
   "cell_type": "code",
   "execution_count": 36,
   "id": "e960c8a4",
   "metadata": {},
   "outputs": [
    {
     "name": "stdout",
     "output_type": "stream",
     "text": [
      "13.097960233382636\n",
      "Доверительный интервал на основе парметрического бустрэпа равен [12.896563157477457, 13.490021879751835]\n"
     ]
    }
   ],
   "source": [
    "print(np.mean(data))\n",
    "number_of_bootstrap_samples = 10 # количество бутстрэп-выборок\n",
    "size_of_bootstrap_samples = 20 # размер бутстрэп-выборок\n",
    "bootstrap_samples = []\n",
    "for i in range(number_of_bootstrap_samples):\n",
    "    bootstrap_samples.append(random.sample(data.tolist(),size_of_bootstrap_samples ))\n",
    "\n",
    "bootstrap_estimates = np.apply_along_axis(np.mean, 1, bootstrap_samples)\n",
    "\n",
    "CI_Bootstrap_Nonparametric = [np.quantile(bootstrap_estimates,alpha/2), np.quantile(bootstrap_estimates,1-alpha/2)]\n",
    "print(\"Доверительный интервал на основе парметрического бустрэпа равен\", CI_Bootstrap_Nonparametric )"
   ]
  },
  {
   "cell_type": "markdown",
   "id": "96b456ed",
   "metadata": {},
   "source": [
    "Вывод: мы нашли доверительные интервалы для параметра $\\lambda$ разными способами и наглядно увидели их точность. Всё-таки лучшим способом является теоеретический подход и подход,встроенный в scipy."
   ]
  }
 ],
 "metadata": {
  "kernelspec": {
   "display_name": "Python 3 (ipykernel)",
   "language": "python",
   "name": "python3"
  },
  "language_info": {
   "codemirror_mode": {
    "name": "ipython",
    "version": 3
   },
   "file_extension": ".py",
   "mimetype": "text/x-python",
   "name": "python",
   "nbconvert_exporter": "python",
   "pygments_lexer": "ipython3",
   "version": "3.10.8"
  }
 },
 "nbformat": 4,
 "nbformat_minor": 5
}
